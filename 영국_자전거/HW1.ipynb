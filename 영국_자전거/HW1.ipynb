{
 "cells": [
  {
   "cell_type": "markdown",
   "metadata": {},
   "source": [
    "- 정류장 배치가 적절한지\n",
    "    - 사람들 평균 이동 거리\n",
    "    - Station간 거리\n",
    "    - 너무 가깝거나 먼 곳이 있는지 확인\n",
    "- 정류장 Capacity의 수가 적절한지(나가는 것과 들어오는 것이 적당히 있어야 한다.)\n",
    "    - 출발 이용 + 끝내는 이용수\n",
    "    - 현재 용량"
   ]
  },
  {
   "cell_type": "code",
   "execution_count": 1,
   "metadata": {},
   "outputs": [],
   "source": [
    "import pandas as pd"
   ]
  },
  {
   "cell_type": "code",
   "execution_count": 2,
   "metadata": {},
   "outputs": [],
   "source": [
    "journeys = pd.read_csv('journeys.csv')\n",
    "stations = pd.read_csv('stations.csv')"
   ]
  },
  {
   "cell_type": "code",
   "execution_count": 3,
   "metadata": {},
   "outputs": [
    {
     "name": "stdout",
     "output_type": "stream",
     "text": [
      "(1542844, 14)\n",
      "(773, 5)\n"
     ]
    }
   ],
   "source": [
    "print(journeys.shape)\n",
    "print(stations.shape)"
   ]
  },
  {
   "cell_type": "code",
   "execution_count": 4,
   "metadata": {},
   "outputs": [
    {
     "data": {
      "text/html": [
       "<div>\n",
       "<style scoped>\n",
       "    .dataframe tbody tr th:only-of-type {\n",
       "        vertical-align: middle;\n",
       "    }\n",
       "\n",
       "    .dataframe tbody tr th {\n",
       "        vertical-align: top;\n",
       "    }\n",
       "\n",
       "    .dataframe thead th {\n",
       "        text-align: right;\n",
       "    }\n",
       "</style>\n",
       "<table border=\"1\" class=\"dataframe\">\n",
       "  <thead>\n",
       "    <tr style=\"text-align: right;\">\n",
       "      <th></th>\n",
       "      <th>Journey Duration</th>\n",
       "      <th>Journey ID</th>\n",
       "      <th>End Date</th>\n",
       "      <th>End Month</th>\n",
       "      <th>End Year</th>\n",
       "      <th>End Hour</th>\n",
       "      <th>End Minute</th>\n",
       "      <th>End Station ID</th>\n",
       "      <th>Start Date</th>\n",
       "      <th>Start Month</th>\n",
       "      <th>Start Year</th>\n",
       "      <th>Start Hour</th>\n",
       "      <th>Start Minute</th>\n",
       "      <th>Start Station ID</th>\n",
       "    </tr>\n",
       "  </thead>\n",
       "  <tbody>\n",
       "    <tr>\n",
       "      <th>0</th>\n",
       "      <td>2040.0</td>\n",
       "      <td>953</td>\n",
       "      <td>19</td>\n",
       "      <td>9</td>\n",
       "      <td>17</td>\n",
       "      <td>18</td>\n",
       "      <td>0</td>\n",
       "      <td>478</td>\n",
       "      <td>19</td>\n",
       "      <td>9</td>\n",
       "      <td>17</td>\n",
       "      <td>17</td>\n",
       "      <td>26</td>\n",
       "      <td>251</td>\n",
       "    </tr>\n",
       "    <tr>\n",
       "      <th>1</th>\n",
       "      <td>1800.0</td>\n",
       "      <td>12581</td>\n",
       "      <td>19</td>\n",
       "      <td>9</td>\n",
       "      <td>17</td>\n",
       "      <td>15</td>\n",
       "      <td>21</td>\n",
       "      <td>122</td>\n",
       "      <td>19</td>\n",
       "      <td>9</td>\n",
       "      <td>17</td>\n",
       "      <td>14</td>\n",
       "      <td>51</td>\n",
       "      <td>550</td>\n",
       "    </tr>\n",
       "  </tbody>\n",
       "</table>\n",
       "</div>"
      ],
      "text/plain": [
       "   Journey Duration  Journey ID  End Date  End Month  End Year  End Hour  \\\n",
       "0            2040.0         953        19          9        17        18   \n",
       "1            1800.0       12581        19          9        17        15   \n",
       "\n",
       "   End Minute  End Station ID  Start Date  Start Month  Start Year  \\\n",
       "0           0             478          19            9          17   \n",
       "1          21             122          19            9          17   \n",
       "\n",
       "   Start Hour  Start Minute  Start Station ID  \n",
       "0          17            26               251  \n",
       "1          14            51               550  "
      ]
     },
     "execution_count": 4,
     "metadata": {},
     "output_type": "execute_result"
    }
   ],
   "source": [
    "journeys.head(2)"
   ]
  },
  {
   "cell_type": "code",
   "execution_count": 5,
   "metadata": {},
   "outputs": [
    {
     "data": {
      "text/html": [
       "<div>\n",
       "<style scoped>\n",
       "    .dataframe tbody tr th:only-of-type {\n",
       "        vertical-align: middle;\n",
       "    }\n",
       "\n",
       "    .dataframe tbody tr th {\n",
       "        vertical-align: top;\n",
       "    }\n",
       "\n",
       "    .dataframe thead th {\n",
       "        text-align: right;\n",
       "    }\n",
       "</style>\n",
       "<table border=\"1\" class=\"dataframe\">\n",
       "  <thead>\n",
       "    <tr style=\"text-align: right;\">\n",
       "      <th></th>\n",
       "      <th>Station ID</th>\n",
       "      <th>Capacity</th>\n",
       "      <th>Latitude</th>\n",
       "      <th>Longitude</th>\n",
       "      <th>Station Name</th>\n",
       "    </tr>\n",
       "  </thead>\n",
       "  <tbody>\n",
       "    <tr>\n",
       "      <th>0</th>\n",
       "      <td>1</td>\n",
       "      <td>19</td>\n",
       "      <td>51.529163</td>\n",
       "      <td>-0.109970</td>\n",
       "      <td>River Street , Clerkenwell</td>\n",
       "    </tr>\n",
       "    <tr>\n",
       "      <th>1</th>\n",
       "      <td>2</td>\n",
       "      <td>37</td>\n",
       "      <td>51.499606</td>\n",
       "      <td>-0.197574</td>\n",
       "      <td>Phillimore Gardens, Kensington</td>\n",
       "    </tr>\n",
       "  </tbody>\n",
       "</table>\n",
       "</div>"
      ],
      "text/plain": [
       "   Station ID  Capacity   Latitude  Longitude                    Station Name\n",
       "0           1        19  51.529163  -0.109970      River Street , Clerkenwell\n",
       "1           2        37  51.499606  -0.197574  Phillimore Gardens, Kensington"
      ]
     },
     "execution_count": 5,
     "metadata": {},
     "output_type": "execute_result"
    }
   ],
   "source": [
    "stations.head(2)"
   ]
  },
  {
   "cell_type": "code",
   "execution_count": 6,
   "metadata": {},
   "outputs": [
    {
     "data": {
      "text/html": [
       "<div>\n",
       "<style scoped>\n",
       "    .dataframe tbody tr th:only-of-type {\n",
       "        vertical-align: middle;\n",
       "    }\n",
       "\n",
       "    .dataframe tbody tr th {\n",
       "        vertical-align: top;\n",
       "    }\n",
       "\n",
       "    .dataframe thead th {\n",
       "        text-align: right;\n",
       "    }\n",
       "</style>\n",
       "<table border=\"1\" class=\"dataframe\">\n",
       "  <thead>\n",
       "    <tr style=\"text-align: right;\">\n",
       "      <th></th>\n",
       "      <th>Journey Duration</th>\n",
       "      <th>Journey ID</th>\n",
       "      <th>End Date</th>\n",
       "      <th>End Month</th>\n",
       "      <th>End Year</th>\n",
       "      <th>End Hour</th>\n",
       "      <th>End Minute</th>\n",
       "      <th>End Station ID</th>\n",
       "      <th>Start Date</th>\n",
       "      <th>Start Month</th>\n",
       "      <th>Start Year</th>\n",
       "      <th>Start Hour</th>\n",
       "      <th>Start Minute</th>\n",
       "      <th>Start Station ID</th>\n",
       "      <th>End Capacity</th>\n",
       "      <th>End Latitude</th>\n",
       "      <th>End Longitude</th>\n",
       "      <th>End Station Name</th>\n",
       "    </tr>\n",
       "  </thead>\n",
       "  <tbody>\n",
       "    <tr>\n",
       "      <th>0</th>\n",
       "      <td>2040.0</td>\n",
       "      <td>953</td>\n",
       "      <td>19</td>\n",
       "      <td>9</td>\n",
       "      <td>17</td>\n",
       "      <td>18</td>\n",
       "      <td>0</td>\n",
       "      <td>478</td>\n",
       "      <td>19</td>\n",
       "      <td>9</td>\n",
       "      <td>17</td>\n",
       "      <td>17</td>\n",
       "      <td>26</td>\n",
       "      <td>251</td>\n",
       "      <td>21.0</td>\n",
       "      <td>51.521889</td>\n",
       "      <td>-0.046670</td>\n",
       "      <td>Stepney Green Station, Stepney</td>\n",
       "    </tr>\n",
       "    <tr>\n",
       "      <th>1</th>\n",
       "      <td>1800.0</td>\n",
       "      <td>12581</td>\n",
       "      <td>19</td>\n",
       "      <td>9</td>\n",
       "      <td>17</td>\n",
       "      <td>15</td>\n",
       "      <td>21</td>\n",
       "      <td>122</td>\n",
       "      <td>19</td>\n",
       "      <td>9</td>\n",
       "      <td>17</td>\n",
       "      <td>14</td>\n",
       "      <td>51</td>\n",
       "      <td>550</td>\n",
       "      <td>23.0</td>\n",
       "      <td>51.521113</td>\n",
       "      <td>-0.078869</td>\n",
       "      <td>Norton Folgate, Liverpool Street</td>\n",
       "    </tr>\n",
       "  </tbody>\n",
       "</table>\n",
       "</div>"
      ],
      "text/plain": [
       "   Journey Duration  Journey ID  End Date  End Month  End Year  End Hour  \\\n",
       "0            2040.0         953        19          9        17        18   \n",
       "1            1800.0       12581        19          9        17        15   \n",
       "\n",
       "   End Minute  End Station ID  Start Date  Start Month  Start Year  \\\n",
       "0           0             478          19            9          17   \n",
       "1          21             122          19            9          17   \n",
       "\n",
       "   Start Hour  Start Minute  Start Station ID  End Capacity  End Latitude  \\\n",
       "0          17            26               251          21.0     51.521889   \n",
       "1          14            51               550          23.0     51.521113   \n",
       "\n",
       "   End Longitude                  End Station Name  \n",
       "0      -0.046670    Stepney Green Station, Stepney  \n",
       "1      -0.078869  Norton Folgate, Liverpool Street  "
      ]
     },
     "execution_count": 6,
     "metadata": {},
     "output_type": "execute_result"
    }
   ],
   "source": [
    "# 끝 정류장에 대한 정보를 journeys에 추가\n",
    "data = pd.merge(journeys, stations, left_on = 'End Station ID', right_on = 'Station ID', how = 'left')\n",
    "\n",
    "# Station ID는 End Station ID와 동일하므로 삭제\n",
    "data = data.drop(['Station ID'], axis = 1)\n",
    "\n",
    "# 시작 정류장에 대한 정보도 추가해야되기 때문에 Column값 변경\n",
    "data.rename(columns={\"Capacity\":\"End Capacity\", \"Latitude\":\"End Latitude\", \"Longitude\":\"End Longitude\", \"Station Name\":\"End Station Name\"},inplace = True)\n",
    "\n",
    "data.head(2)"
   ]
  },
  {
   "cell_type": "code",
   "execution_count": 7,
   "metadata": {},
   "outputs": [
    {
     "data": {
      "text/html": [
       "<div>\n",
       "<style scoped>\n",
       "    .dataframe tbody tr th:only-of-type {\n",
       "        vertical-align: middle;\n",
       "    }\n",
       "\n",
       "    .dataframe tbody tr th {\n",
       "        vertical-align: top;\n",
       "    }\n",
       "\n",
       "    .dataframe thead th {\n",
       "        text-align: right;\n",
       "    }\n",
       "</style>\n",
       "<table border=\"1\" class=\"dataframe\">\n",
       "  <thead>\n",
       "    <tr style=\"text-align: right;\">\n",
       "      <th></th>\n",
       "      <th>Journey Duration</th>\n",
       "      <th>Journey ID</th>\n",
       "      <th>End Date</th>\n",
       "      <th>End Month</th>\n",
       "      <th>End Year</th>\n",
       "      <th>End Hour</th>\n",
       "      <th>End Minute</th>\n",
       "      <th>End Station ID</th>\n",
       "      <th>Start Date</th>\n",
       "      <th>Start Month</th>\n",
       "      <th>...</th>\n",
       "      <th>Start Minute</th>\n",
       "      <th>Start Station ID</th>\n",
       "      <th>End Capacity</th>\n",
       "      <th>End Latitude</th>\n",
       "      <th>End Longitude</th>\n",
       "      <th>End Station Name</th>\n",
       "      <th>Start Capacity</th>\n",
       "      <th>Start Latitude</th>\n",
       "      <th>Start Longitude</th>\n",
       "      <th>Start Station Name</th>\n",
       "    </tr>\n",
       "  </thead>\n",
       "  <tbody>\n",
       "    <tr>\n",
       "      <th>0</th>\n",
       "      <td>2040.0</td>\n",
       "      <td>953</td>\n",
       "      <td>19</td>\n",
       "      <td>9</td>\n",
       "      <td>17</td>\n",
       "      <td>18</td>\n",
       "      <td>0</td>\n",
       "      <td>478</td>\n",
       "      <td>19</td>\n",
       "      <td>9</td>\n",
       "      <td>...</td>\n",
       "      <td>26</td>\n",
       "      <td>251</td>\n",
       "      <td>21.0</td>\n",
       "      <td>51.521889</td>\n",
       "      <td>-0.046670</td>\n",
       "      <td>Stepney Green Station, Stepney</td>\n",
       "      <td>34.0</td>\n",
       "      <td>51.518908</td>\n",
       "      <td>-0.079249</td>\n",
       "      <td>Brushfield Street, Liverpool Street</td>\n",
       "    </tr>\n",
       "    <tr>\n",
       "      <th>1</th>\n",
       "      <td>1800.0</td>\n",
       "      <td>12581</td>\n",
       "      <td>19</td>\n",
       "      <td>9</td>\n",
       "      <td>17</td>\n",
       "      <td>15</td>\n",
       "      <td>21</td>\n",
       "      <td>122</td>\n",
       "      <td>19</td>\n",
       "      <td>9</td>\n",
       "      <td>...</td>\n",
       "      <td>51</td>\n",
       "      <td>550</td>\n",
       "      <td>23.0</td>\n",
       "      <td>51.521113</td>\n",
       "      <td>-0.078869</td>\n",
       "      <td>Norton Folgate, Liverpool Street</td>\n",
       "      <td>23.0</td>\n",
       "      <td>51.521564</td>\n",
       "      <td>-0.039264</td>\n",
       "      <td>Harford Street, Mile End</td>\n",
       "    </tr>\n",
       "  </tbody>\n",
       "</table>\n",
       "<p>2 rows × 22 columns</p>\n",
       "</div>"
      ],
      "text/plain": [
       "   Journey Duration  Journey ID  End Date  End Month  End Year  End Hour  \\\n",
       "0            2040.0         953        19          9        17        18   \n",
       "1            1800.0       12581        19          9        17        15   \n",
       "\n",
       "   End Minute  End Station ID  Start Date  Start Month  ...  Start Minute  \\\n",
       "0           0             478          19            9  ...            26   \n",
       "1          21             122          19            9  ...            51   \n",
       "\n",
       "   Start Station ID  End Capacity  End Latitude  End Longitude  \\\n",
       "0               251          21.0     51.521889      -0.046670   \n",
       "1               550          23.0     51.521113      -0.078869   \n",
       "\n",
       "                   End Station Name  Start Capacity Start Latitude  \\\n",
       "0    Stepney Green Station, Stepney            34.0      51.518908   \n",
       "1  Norton Folgate, Liverpool Street            23.0      51.521564   \n",
       "\n",
       "   Start Longitude                   Start Station Name  \n",
       "0        -0.079249  Brushfield Street, Liverpool Street  \n",
       "1        -0.039264             Harford Street, Mile End  \n",
       "\n",
       "[2 rows x 22 columns]"
      ]
     },
     "execution_count": 7,
     "metadata": {},
     "output_type": "execute_result"
    }
   ],
   "source": [
    "# 시작 정류장에 대한 정보를 journeys에 추가\n",
    "data = pd.merge(data, stations, left_on = 'Start Station ID', right_on = 'Station ID', how = 'left')\n",
    "\n",
    "# Station ID는 Start Station ID와 동일하므로 삭제\n",
    "data = data.drop(['Station ID'], axis = 1)\n",
    "\n",
    "# Column값 변경\n",
    "data.rename(columns={\"Capacity\":\"Start Capacity\", \"Latitude\":\"Start Latitude\", \"Longitude\":\"Start Longitude\", \"Station Name\":\"Start Station Name\"},inplace = True)\n",
    "\n",
    "# 최종 데이터\n",
    "data.head(2)"
   ]
  },
  {
   "cell_type": "code",
   "execution_count": 8,
   "metadata": {},
   "outputs": [
    {
     "data": {
      "text/plain": [
       "(1542844, 22)"
      ]
     },
     "execution_count": 8,
     "metadata": {},
     "output_type": "execute_result"
    }
   ],
   "source": [
    "data.shape"
   ]
  },
  {
   "cell_type": "markdown",
   "metadata": {},
   "source": [
    "## 1. 정류장 별 나가고 들어오는 자전거 수가 비슷한지?\n",
    "\n",
    "- 나가는 수와 들어오는 수의 차가 0인지?"
   ]
  },
  {
   "cell_type": "code",
   "execution_count": 33,
   "metadata": {},
   "outputs": [
    {
     "data": {
      "text/html": [
       "<div>\n",
       "<style scoped>\n",
       "    .dataframe tbody tr th:only-of-type {\n",
       "        vertical-align: middle;\n",
       "    }\n",
       "\n",
       "    .dataframe tbody tr th {\n",
       "        vertical-align: top;\n",
       "    }\n",
       "\n",
       "    .dataframe thead th {\n",
       "        text-align: right;\n",
       "    }\n",
       "</style>\n",
       "<table border=\"1\" class=\"dataframe\">\n",
       "  <thead>\n",
       "    <tr style=\"text-align: right;\">\n",
       "      <th></th>\n",
       "      <th>Journey Duration</th>\n",
       "    </tr>\n",
       "    <tr>\n",
       "      <th>Start Station ID</th>\n",
       "      <th></th>\n",
       "    </tr>\n",
       "  </thead>\n",
       "  <tbody>\n",
       "    <tr>\n",
       "      <th>1</th>\n",
       "      <td>1269</td>\n",
       "    </tr>\n",
       "    <tr>\n",
       "      <th>2</th>\n",
       "      <td>2055</td>\n",
       "    </tr>\n",
       "    <tr>\n",
       "      <th>3</th>\n",
       "      <td>3337</td>\n",
       "    </tr>\n",
       "    <tr>\n",
       "      <th>4</th>\n",
       "      <td>1405</td>\n",
       "    </tr>\n",
       "    <tr>\n",
       "      <th>5</th>\n",
       "      <td>3335</td>\n",
       "    </tr>\n",
       "  </tbody>\n",
       "</table>\n",
       "</div>"
      ],
      "text/plain": [
       "                  Journey Duration\n",
       "Start Station ID                  \n",
       "1                             1269\n",
       "2                             2055\n",
       "3                             3337\n",
       "4                             1405\n",
       "5                             3335"
      ]
     },
     "execution_count": 33,
     "metadata": {},
     "output_type": "execute_result"
    }
   ],
   "source": [
    "# 시작하는 \n",
    "pd.pivot_table(data, index = 'Start Station ID', values = 'Journey Duration', aggfunc = 'count').head()"
   ]
  },
  {
   "cell_type": "code",
   "execution_count": 18,
   "metadata": {},
   "outputs": [
    {
     "data": {
      "text/html": [
       "<div>\n",
       "<style scoped>\n",
       "    .dataframe tbody tr th:only-of-type {\n",
       "        vertical-align: middle;\n",
       "    }\n",
       "\n",
       "    .dataframe tbody tr th {\n",
       "        vertical-align: top;\n",
       "    }\n",
       "\n",
       "    .dataframe thead th {\n",
       "        text-align: right;\n",
       "    }\n",
       "</style>\n",
       "<table border=\"1\" class=\"dataframe\">\n",
       "  <thead>\n",
       "    <tr style=\"text-align: right;\">\n",
       "      <th></th>\n",
       "      <th>Journey Duration</th>\n",
       "    </tr>\n",
       "    <tr>\n",
       "      <th>End Station ID</th>\n",
       "      <th></th>\n",
       "    </tr>\n",
       "  </thead>\n",
       "  <tbody>\n",
       "    <tr>\n",
       "      <th>1</th>\n",
       "      <td>877</td>\n",
       "    </tr>\n",
       "    <tr>\n",
       "      <th>2</th>\n",
       "      <td>2379</td>\n",
       "    </tr>\n",
       "    <tr>\n",
       "      <th>3</th>\n",
       "      <td>3786</td>\n",
       "    </tr>\n",
       "    <tr>\n",
       "      <th>4</th>\n",
       "      <td>1548</td>\n",
       "    </tr>\n",
       "    <tr>\n",
       "      <th>5</th>\n",
       "      <td>3596</td>\n",
       "    </tr>\n",
       "  </tbody>\n",
       "</table>\n",
       "</div>"
      ],
      "text/plain": [
       "                Journey Duration\n",
       "End Station ID                  \n",
       "1                            877\n",
       "2                           2379\n",
       "3                           3786\n",
       "4                           1548\n",
       "5                           3596"
      ]
     },
     "execution_count": 18,
     "metadata": {},
     "output_type": "execute_result"
    }
   ],
   "source": [
    "pd.pivot_table(data, index = 'End Station ID', values = 'Journey Duration', aggfunc = 'count').head()"
   ]
  },
  {
   "cell_type": "code",
   "execution_count": 20,
   "metadata": {},
   "outputs": [
    {
     "data": {
      "text/html": [
       "<div>\n",
       "<style scoped>\n",
       "    .dataframe tbody tr th:only-of-type {\n",
       "        vertical-align: middle;\n",
       "    }\n",
       "\n",
       "    .dataframe tbody tr th {\n",
       "        vertical-align: top;\n",
       "    }\n",
       "\n",
       "    .dataframe thead th {\n",
       "        text-align: right;\n",
       "    }\n",
       "</style>\n",
       "<table border=\"1\" class=\"dataframe\">\n",
       "  <thead>\n",
       "    <tr style=\"text-align: right;\">\n",
       "      <th></th>\n",
       "      <th>Journey Duration</th>\n",
       "    </tr>\n",
       "    <tr>\n",
       "      <th>Start Station ID</th>\n",
       "      <th></th>\n",
       "    </tr>\n",
       "  </thead>\n",
       "  <tbody>\n",
       "    <tr>\n",
       "      <th>1</th>\n",
       "      <td>392</td>\n",
       "    </tr>\n",
       "    <tr>\n",
       "      <th>2</th>\n",
       "      <td>-324</td>\n",
       "    </tr>\n",
       "    <tr>\n",
       "      <th>3</th>\n",
       "      <td>-449</td>\n",
       "    </tr>\n",
       "    <tr>\n",
       "      <th>4</th>\n",
       "      <td>-143</td>\n",
       "    </tr>\n",
       "    <tr>\n",
       "      <th>5</th>\n",
       "      <td>-261</td>\n",
       "    </tr>\n",
       "  </tbody>\n",
       "</table>\n",
       "</div>"
      ],
      "text/plain": [
       "                  Journey Duration\n",
       "Start Station ID                  \n",
       "1                              392\n",
       "2                             -324\n",
       "3                             -449\n",
       "4                             -143\n",
       "5                             -261"
      ]
     },
     "execution_count": 20,
     "metadata": {},
     "output_type": "execute_result"
    }
   ],
   "source": [
    "data_1 = pd.pivot_table(data, index = 'Start Station ID', values = 'Journey Duration', aggfunc = 'count') - pd.pivot_table(data, index = 'End Station ID', values = 'Journey Duration', aggfunc = 'count')\n",
    "data_1"
   ]
  },
  {
   "cell_type": "code",
   "execution_count": 28,
   "metadata": {},
   "outputs": [
    {
     "data": {
      "text/html": [
       "<div>\n",
       "<style scoped>\n",
       "    .dataframe tbody tr th:only-of-type {\n",
       "        vertical-align: middle;\n",
       "    }\n",
       "\n",
       "    .dataframe tbody tr th {\n",
       "        vertical-align: top;\n",
       "    }\n",
       "\n",
       "    .dataframe thead th {\n",
       "        text-align: right;\n",
       "    }\n",
       "</style>\n",
       "<table border=\"1\" class=\"dataframe\">\n",
       "  <thead>\n",
       "    <tr style=\"text-align: right;\">\n",
       "      <th></th>\n",
       "      <th>Journey Duration</th>\n",
       "    </tr>\n",
       "    <tr>\n",
       "      <th>Start Station ID</th>\n",
       "      <th></th>\n",
       "    </tr>\n",
       "  </thead>\n",
       "  <tbody>\n",
       "    <tr>\n",
       "      <th>1</th>\n",
       "      <td>392</td>\n",
       "    </tr>\n",
       "    <tr>\n",
       "      <th>2</th>\n",
       "      <td>-324</td>\n",
       "    </tr>\n",
       "    <tr>\n",
       "      <th>3</th>\n",
       "      <td>-449</td>\n",
       "    </tr>\n",
       "    <tr>\n",
       "      <th>4</th>\n",
       "      <td>-143</td>\n",
       "    </tr>\n",
       "    <tr>\n",
       "      <th>5</th>\n",
       "      <td>-261</td>\n",
       "    </tr>\n",
       "  </tbody>\n",
       "</table>\n",
       "</div>"
      ],
      "text/plain": [
       "                  Journey Duration\n",
       "Start Station ID                  \n",
       "1                              392\n",
       "2                             -324\n",
       "3                             -449\n",
       "4                             -143\n",
       "5                             -261"
      ]
     },
     "execution_count": 28,
     "metadata": {},
     "output_type": "execute_result"
    }
   ],
   "source": [
    "data_1.head()"
   ]
  },
  {
   "cell_type": "code",
   "execution_count": 31,
   "metadata": {},
   "outputs": [
    {
     "data": {
      "text/html": [
       "<div>\n",
       "<style scoped>\n",
       "    .dataframe tbody tr th:only-of-type {\n",
       "        vertical-align: middle;\n",
       "    }\n",
       "\n",
       "    .dataframe tbody tr th {\n",
       "        vertical-align: top;\n",
       "    }\n",
       "\n",
       "    .dataframe thead th {\n",
       "        text-align: right;\n",
       "    }\n",
       "</style>\n",
       "<table border=\"1\" class=\"dataframe\">\n",
       "  <thead>\n",
       "    <tr style=\"text-align: right;\">\n",
       "      <th></th>\n",
       "      <th>Journey Duration</th>\n",
       "    </tr>\n",
       "    <tr>\n",
       "      <th>Start Station ID</th>\n",
       "      <th></th>\n",
       "    </tr>\n",
       "  </thead>\n",
       "  <tbody>\n",
       "    <tr>\n",
       "      <th>66</th>\n",
       "      <td>-3186</td>\n",
       "    </tr>\n",
       "    <tr>\n",
       "      <th>71</th>\n",
       "      <td>-1242</td>\n",
       "    </tr>\n",
       "    <tr>\n",
       "      <th>194</th>\n",
       "      <td>-2791</td>\n",
       "    </tr>\n",
       "    <tr>\n",
       "      <th>228</th>\n",
       "      <td>-1460</td>\n",
       "    </tr>\n",
       "    <tr>\n",
       "      <th>251</th>\n",
       "      <td>-1332</td>\n",
       "    </tr>\n",
       "    <tr>\n",
       "      <th>361</th>\n",
       "      <td>2005</td>\n",
       "    </tr>\n",
       "    <tr>\n",
       "      <th>374</th>\n",
       "      <td>1299</td>\n",
       "    </tr>\n",
       "    <tr>\n",
       "      <th>574</th>\n",
       "      <td>1101</td>\n",
       "    </tr>\n",
       "    <tr>\n",
       "      <th>762</th>\n",
       "      <td>-1098</td>\n",
       "    </tr>\n",
       "  </tbody>\n",
       "</table>\n",
       "</div>"
      ],
      "text/plain": [
       "                  Journey Duration\n",
       "Start Station ID                  \n",
       "66                           -3186\n",
       "71                           -1242\n",
       "194                          -2791\n",
       "228                          -1460\n",
       "251                          -1332\n",
       "361                           2005\n",
       "374                           1299\n",
       "574                           1101\n",
       "762                          -1098"
      ]
     },
     "execution_count": 31,
     "metadata": {},
     "output_type": "execute_result"
    }
   ],
   "source": [
    "data_1[(data_1['Journey Duration'] > 1000) | (data_1['Journey Duration'] < -1000)]"
   ]
  },
  {
   "cell_type": "code",
   "execution_count": 34,
   "metadata": {},
   "outputs": [
    {
     "data": {
      "text/plain": [
       "Journey Duration   -744.888889\n",
       "dtype: float64"
      ]
     },
     "execution_count": 34,
     "metadata": {},
     "output_type": "execute_result"
    }
   ],
   "source": [
    "data_1[(data_1['Journey Duration'] > 1000) | (data_1['Journey Duration'] < -1000)].mean()"
   ]
  },
  {
   "cell_type": "code",
   "execution_count": 37,
   "metadata": {},
   "outputs": [
    {
     "data": {
      "text/html": [
       "<div>\n",
       "<style scoped>\n",
       "    .dataframe tbody tr th:only-of-type {\n",
       "        vertical-align: middle;\n",
       "    }\n",
       "\n",
       "    .dataframe tbody tr th {\n",
       "        vertical-align: top;\n",
       "    }\n",
       "\n",
       "    .dataframe thead th {\n",
       "        text-align: right;\n",
       "    }\n",
       "</style>\n",
       "<table border=\"1\" class=\"dataframe\">\n",
       "  <thead>\n",
       "    <tr style=\"text-align: right;\">\n",
       "      <th></th>\n",
       "      <th>Journey Duration</th>\n",
       "    </tr>\n",
       "    <tr>\n",
       "      <th>Start Station ID</th>\n",
       "      <th></th>\n",
       "    </tr>\n",
       "  </thead>\n",
       "  <tbody>\n",
       "    <tr>\n",
       "      <th>66</th>\n",
       "      <td>-3186</td>\n",
       "    </tr>\n",
       "    <tr>\n",
       "      <th>71</th>\n",
       "      <td>-1242</td>\n",
       "    </tr>\n",
       "    <tr>\n",
       "      <th>194</th>\n",
       "      <td>-2791</td>\n",
       "    </tr>\n",
       "    <tr>\n",
       "      <th>228</th>\n",
       "      <td>-1460</td>\n",
       "    </tr>\n",
       "    <tr>\n",
       "      <th>251</th>\n",
       "      <td>-1332</td>\n",
       "    </tr>\n",
       "    <tr>\n",
       "      <th>361</th>\n",
       "      <td>2005</td>\n",
       "    </tr>\n",
       "    <tr>\n",
       "      <th>374</th>\n",
       "      <td>1299</td>\n",
       "    </tr>\n",
       "    <tr>\n",
       "      <th>574</th>\n",
       "      <td>1101</td>\n",
       "    </tr>\n",
       "    <tr>\n",
       "      <th>762</th>\n",
       "      <td>-1098</td>\n",
       "    </tr>\n",
       "  </tbody>\n",
       "</table>\n",
       "</div>"
      ],
      "text/plain": [
       "                  Journey Duration\n",
       "Start Station ID                  \n",
       "66                           -3186\n",
       "71                           -1242\n",
       "194                          -2791\n",
       "228                          -1460\n",
       "251                          -1332\n",
       "361                           2005\n",
       "374                           1299\n",
       "574                           1101\n",
       "762                          -1098"
      ]
     },
     "execution_count": 37,
     "metadata": {},
     "output_type": "execute_result"
    }
   ],
   "source": [
    "data_1[(data_1['Journey Duration'] > 1000) | (data_1['Journey Duration'] < -1000)]"
   ]
  },
  {
   "cell_type": "code",
   "execution_count": 40,
   "metadata": {},
   "outputs": [
    {
     "data": {
      "text/plain": [
       "Journey Duration    437\n",
       "dtype: int64"
      ]
     },
     "execution_count": 40,
     "metadata": {},
     "output_type": "execute_result"
    }
   ],
   "source": [
    "data_1[data_1['Journey Duration'] > 0].count()"
   ]
  },
  {
   "cell_type": "code",
   "execution_count": 41,
   "metadata": {},
   "outputs": [
    {
     "data": {
      "text/plain": [
       "Journey Duration    337\n",
       "dtype: int64"
      ]
     },
     "execution_count": 41,
     "metadata": {},
     "output_type": "execute_result"
    }
   ],
   "source": [
    "data_1[data_1['Journey Duration'] < 0].count()"
   ]
  },
  {
   "cell_type": "code",
   "execution_count": 44,
   "metadata": {},
   "outputs": [
    {
     "data": {
      "text/plain": [
       "Journey Duration    0.0\n",
       "dtype: float64"
      ]
     },
     "execution_count": 44,
     "metadata": {},
     "output_type": "execute_result"
    }
   ],
   "source": [
    "data_1.mean()"
   ]
  },
  {
   "cell_type": "code",
   "execution_count": 42,
   "metadata": {},
   "outputs": [
    {
     "data": {
      "text/plain": [
       "Journey Duration    0\n",
       "dtype: int64"
      ]
     },
     "execution_count": 42,
     "metadata": {},
     "output_type": "execute_result"
    }
   ],
   "source": [
    "data_1.sum()"
   ]
  },
  {
   "cell_type": "markdown",
   "metadata": {},
   "source": [
    "- 위 데이터에다가 경도, 위도 붙이고 시각화\n",
    "- count해서 분포 확인(정규분포인지)"
   ]
  }
 ],
 "metadata": {
  "kernelspec": {
   "display_name": "Python 3",
   "language": "python",
   "name": "python3"
  },
  "language_info": {
   "codemirror_mode": {
    "name": "ipython",
    "version": 3
   },
   "file_extension": ".py",
   "mimetype": "text/x-python",
   "name": "python",
   "nbconvert_exporter": "python",
   "pygments_lexer": "ipython3",
   "version": "3.7.3"
  }
 },
 "nbformat": 4,
 "nbformat_minor": 2
}
