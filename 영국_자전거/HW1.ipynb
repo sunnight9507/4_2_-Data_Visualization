{
 "cells": [
  {
   "cell_type": "markdown",
   "metadata": {},
   "source": [
    "### Q. 정류장 별 나가고 들어오는 자전거 수가 비슷한지?"
   ]
  },
  {
   "cell_type": "code",
   "execution_count": 1,
   "metadata": {},
   "outputs": [],
   "source": [
    "import pandas as pd\n",
    "import matplotlib.pyplot as plt\n",
    "import seaborn as sns"
   ]
  },
  {
   "cell_type": "code",
   "execution_count": 2,
   "metadata": {},
   "outputs": [
    {
     "name": "stdout",
     "output_type": "stream",
     "text": [
      "(1542844, 14)\n",
      "(773, 5)\n"
     ]
    },
    {
     "data": {
      "text/html": [
       "<div>\n",
       "<style scoped>\n",
       "    .dataframe tbody tr th:only-of-type {\n",
       "        vertical-align: middle;\n",
       "    }\n",
       "\n",
       "    .dataframe tbody tr th {\n",
       "        vertical-align: top;\n",
       "    }\n",
       "\n",
       "    .dataframe thead th {\n",
       "        text-align: right;\n",
       "    }\n",
       "</style>\n",
       "<table border=\"1\" class=\"dataframe\">\n",
       "  <thead>\n",
       "    <tr style=\"text-align: right;\">\n",
       "      <th></th>\n",
       "      <th>Journey Duration</th>\n",
       "      <th>Journey ID</th>\n",
       "      <th>End Date</th>\n",
       "      <th>End Month</th>\n",
       "      <th>End Year</th>\n",
       "      <th>End Hour</th>\n",
       "      <th>End Minute</th>\n",
       "      <th>End Station ID</th>\n",
       "      <th>Start Date</th>\n",
       "      <th>Start Month</th>\n",
       "      <th>Start Year</th>\n",
       "      <th>Start Hour</th>\n",
       "      <th>Start Minute</th>\n",
       "      <th>Start Station ID</th>\n",
       "    </tr>\n",
       "  </thead>\n",
       "  <tbody>\n",
       "    <tr>\n",
       "      <th>0</th>\n",
       "      <td>2040.0</td>\n",
       "      <td>953</td>\n",
       "      <td>19</td>\n",
       "      <td>9</td>\n",
       "      <td>17</td>\n",
       "      <td>18</td>\n",
       "      <td>0</td>\n",
       "      <td>478</td>\n",
       "      <td>19</td>\n",
       "      <td>9</td>\n",
       "      <td>17</td>\n",
       "      <td>17</td>\n",
       "      <td>26</td>\n",
       "      <td>251</td>\n",
       "    </tr>\n",
       "    <tr>\n",
       "      <th>1</th>\n",
       "      <td>1800.0</td>\n",
       "      <td>12581</td>\n",
       "      <td>19</td>\n",
       "      <td>9</td>\n",
       "      <td>17</td>\n",
       "      <td>15</td>\n",
       "      <td>21</td>\n",
       "      <td>122</td>\n",
       "      <td>19</td>\n",
       "      <td>9</td>\n",
       "      <td>17</td>\n",
       "      <td>14</td>\n",
       "      <td>51</td>\n",
       "      <td>550</td>\n",
       "    </tr>\n",
       "  </tbody>\n",
       "</table>\n",
       "</div>"
      ],
      "text/plain": [
       "   Journey Duration  Journey ID  End Date  End Month  End Year  End Hour  \\\n",
       "0            2040.0         953        19          9        17        18   \n",
       "1            1800.0       12581        19          9        17        15   \n",
       "\n",
       "   End Minute  End Station ID  Start Date  Start Month  Start Year  \\\n",
       "0           0             478          19            9          17   \n",
       "1          21             122          19            9          17   \n",
       "\n",
       "   Start Hour  Start Minute  Start Station ID  \n",
       "0          17            26               251  \n",
       "1          14            51               550  "
      ]
     },
     "execution_count": 2,
     "metadata": {},
     "output_type": "execute_result"
    }
   ],
   "source": [
    "journeys = pd.read_csv('journeys.csv')\n",
    "stations = pd.read_csv('stations.csv')\n",
    "\n",
    "print(journeys.shape)\n",
    "print(stations.shape)\n",
    "\n",
    "journeys.head(2)"
   ]
  },
  {
   "cell_type": "code",
   "execution_count": 3,
   "metadata": {},
   "outputs": [
    {
     "data": {
      "text/html": [
       "<div>\n",
       "<style scoped>\n",
       "    .dataframe tbody tr th:only-of-type {\n",
       "        vertical-align: middle;\n",
       "    }\n",
       "\n",
       "    .dataframe tbody tr th {\n",
       "        vertical-align: top;\n",
       "    }\n",
       "\n",
       "    .dataframe thead th {\n",
       "        text-align: right;\n",
       "    }\n",
       "</style>\n",
       "<table border=\"1\" class=\"dataframe\">\n",
       "  <thead>\n",
       "    <tr style=\"text-align: right;\">\n",
       "      <th></th>\n",
       "      <th>Station ID</th>\n",
       "      <th>Capacity</th>\n",
       "      <th>Latitude</th>\n",
       "      <th>Longitude</th>\n",
       "      <th>Station Name</th>\n",
       "    </tr>\n",
       "  </thead>\n",
       "  <tbody>\n",
       "    <tr>\n",
       "      <th>0</th>\n",
       "      <td>1</td>\n",
       "      <td>19</td>\n",
       "      <td>51.529163</td>\n",
       "      <td>-0.109970</td>\n",
       "      <td>River Street , Clerkenwell</td>\n",
       "    </tr>\n",
       "    <tr>\n",
       "      <th>1</th>\n",
       "      <td>2</td>\n",
       "      <td>37</td>\n",
       "      <td>51.499606</td>\n",
       "      <td>-0.197574</td>\n",
       "      <td>Phillimore Gardens, Kensington</td>\n",
       "    </tr>\n",
       "  </tbody>\n",
       "</table>\n",
       "</div>"
      ],
      "text/plain": [
       "   Station ID  Capacity   Latitude  Longitude                    Station Name\n",
       "0           1        19  51.529163  -0.109970      River Street , Clerkenwell\n",
       "1           2        37  51.499606  -0.197574  Phillimore Gardens, Kensington"
      ]
     },
     "execution_count": 3,
     "metadata": {},
     "output_type": "execute_result"
    }
   ],
   "source": [
    "stations.head(2)"
   ]
  },
  {
   "cell_type": "code",
   "execution_count": 4,
   "metadata": {
    "scrolled": true
   },
   "outputs": [
    {
     "name": "stdout",
     "output_type": "stream",
     "text": [
      "(1542844, 22)\n"
     ]
    },
    {
     "data": {
      "text/html": [
       "<div>\n",
       "<style scoped>\n",
       "    .dataframe tbody tr th:only-of-type {\n",
       "        vertical-align: middle;\n",
       "    }\n",
       "\n",
       "    .dataframe tbody tr th {\n",
       "        vertical-align: top;\n",
       "    }\n",
       "\n",
       "    .dataframe thead th {\n",
       "        text-align: right;\n",
       "    }\n",
       "</style>\n",
       "<table border=\"1\" class=\"dataframe\">\n",
       "  <thead>\n",
       "    <tr style=\"text-align: right;\">\n",
       "      <th></th>\n",
       "      <th>Journey Duration</th>\n",
       "      <th>Journey ID</th>\n",
       "      <th>End Date</th>\n",
       "      <th>End Month</th>\n",
       "      <th>End Year</th>\n",
       "      <th>End Hour</th>\n",
       "      <th>End Minute</th>\n",
       "      <th>End Station ID</th>\n",
       "      <th>Start Date</th>\n",
       "      <th>Start Month</th>\n",
       "      <th>...</th>\n",
       "      <th>Start Minute</th>\n",
       "      <th>Start Station ID</th>\n",
       "      <th>End Capacity</th>\n",
       "      <th>End Latitude</th>\n",
       "      <th>End Longitude</th>\n",
       "      <th>End Station Name</th>\n",
       "      <th>Start Capacity</th>\n",
       "      <th>Start Latitude</th>\n",
       "      <th>Start Longitude</th>\n",
       "      <th>Start Station Name</th>\n",
       "    </tr>\n",
       "  </thead>\n",
       "  <tbody>\n",
       "    <tr>\n",
       "      <th>0</th>\n",
       "      <td>2040.0</td>\n",
       "      <td>953</td>\n",
       "      <td>19</td>\n",
       "      <td>9</td>\n",
       "      <td>17</td>\n",
       "      <td>18</td>\n",
       "      <td>0</td>\n",
       "      <td>478</td>\n",
       "      <td>19</td>\n",
       "      <td>9</td>\n",
       "      <td>...</td>\n",
       "      <td>26</td>\n",
       "      <td>251</td>\n",
       "      <td>21.0</td>\n",
       "      <td>51.521889</td>\n",
       "      <td>-0.046670</td>\n",
       "      <td>Stepney Green Station, Stepney</td>\n",
       "      <td>34.0</td>\n",
       "      <td>51.518908</td>\n",
       "      <td>-0.079249</td>\n",
       "      <td>Brushfield Street, Liverpool Street</td>\n",
       "    </tr>\n",
       "    <tr>\n",
       "      <th>1</th>\n",
       "      <td>1800.0</td>\n",
       "      <td>12581</td>\n",
       "      <td>19</td>\n",
       "      <td>9</td>\n",
       "      <td>17</td>\n",
       "      <td>15</td>\n",
       "      <td>21</td>\n",
       "      <td>122</td>\n",
       "      <td>19</td>\n",
       "      <td>9</td>\n",
       "      <td>...</td>\n",
       "      <td>51</td>\n",
       "      <td>550</td>\n",
       "      <td>23.0</td>\n",
       "      <td>51.521113</td>\n",
       "      <td>-0.078869</td>\n",
       "      <td>Norton Folgate, Liverpool Street</td>\n",
       "      <td>23.0</td>\n",
       "      <td>51.521564</td>\n",
       "      <td>-0.039264</td>\n",
       "      <td>Harford Street, Mile End</td>\n",
       "    </tr>\n",
       "  </tbody>\n",
       "</table>\n",
       "<p>2 rows × 22 columns</p>\n",
       "</div>"
      ],
      "text/plain": [
       "   Journey Duration  Journey ID  End Date  End Month  End Year  End Hour  \\\n",
       "0            2040.0         953        19          9        17        18   \n",
       "1            1800.0       12581        19          9        17        15   \n",
       "\n",
       "   End Minute  End Station ID  Start Date  Start Month  ...  Start Minute  \\\n",
       "0           0             478          19            9  ...            26   \n",
       "1          21             122          19            9  ...            51   \n",
       "\n",
       "   Start Station ID  End Capacity  End Latitude  End Longitude  \\\n",
       "0               251          21.0     51.521889      -0.046670   \n",
       "1               550          23.0     51.521113      -0.078869   \n",
       "\n",
       "                   End Station Name  Start Capacity Start Latitude  \\\n",
       "0    Stepney Green Station, Stepney            34.0      51.518908   \n",
       "1  Norton Folgate, Liverpool Street            23.0      51.521564   \n",
       "\n",
       "   Start Longitude                   Start Station Name  \n",
       "0        -0.079249  Brushfield Street, Liverpool Street  \n",
       "1        -0.039264             Harford Street, Mile End  \n",
       "\n",
       "[2 rows x 22 columns]"
      ]
     },
     "execution_count": 4,
     "metadata": {},
     "output_type": "execute_result"
    }
   ],
   "source": [
    "# 끝 정류장에 대한 정보를 journeys에 추가\n",
    "data = pd.merge(journeys, stations, left_on = 'End Station ID', right_on = 'Station ID', how = 'left')\n",
    "\n",
    "# Station ID는 End Station ID와 동일하므로 삭제\n",
    "data = data.drop(['Station ID'], axis = 1)\n",
    "\n",
    "# 시작 정류장에 대한 정보도 추가해야되기 때문에 Column값 변경\n",
    "data.rename(columns={\"Capacity\":\"End Capacity\", \"Latitude\":\"End Latitude\", \"Longitude\":\"End Longitude\", \"Station Name\":\"End Station Name\"},inplace = True)\n",
    "\n",
    "# 시작 정류장에 대한 정보를 journeys에 추가\n",
    "data = pd.merge(data, stations, left_on = 'Start Station ID', right_on = 'Station ID', how = 'left')\n",
    "\n",
    "# Station ID는 Start Station ID와 동일하므로 삭제\n",
    "data = data.drop(['Station ID'], axis = 1)\n",
    "\n",
    "# Column값 변경\n",
    "data.rename(columns={\"Capacity\":\"Start Capacity\", \"Latitude\":\"Start Latitude\", \"Longitude\":\"Start Longitude\", \"Station Name\":\"Start Station Name\"},inplace = True)\n",
    "\n",
    "# 최종 데이터\n",
    "print(data.shape)\n",
    "data.head(2)"
   ]
  },
  {
   "cell_type": "code",
   "execution_count": 5,
   "metadata": {},
   "outputs": [
    {
     "data": {
      "text/html": [
       "<div>\n",
       "<style scoped>\n",
       "    .dataframe tbody tr th:only-of-type {\n",
       "        vertical-align: middle;\n",
       "    }\n",
       "\n",
       "    .dataframe tbody tr th {\n",
       "        vertical-align: top;\n",
       "    }\n",
       "\n",
       "    .dataframe thead th {\n",
       "        text-align: right;\n",
       "    }\n",
       "</style>\n",
       "<table border=\"1\" class=\"dataframe\">\n",
       "  <thead>\n",
       "    <tr style=\"text-align: right;\">\n",
       "      <th></th>\n",
       "      <th>Journey Duration</th>\n",
       "    </tr>\n",
       "    <tr>\n",
       "      <th>Start Station ID</th>\n",
       "      <th></th>\n",
       "    </tr>\n",
       "  </thead>\n",
       "  <tbody>\n",
       "    <tr>\n",
       "      <th>1</th>\n",
       "      <td>1269</td>\n",
       "    </tr>\n",
       "    <tr>\n",
       "      <th>2</th>\n",
       "      <td>2055</td>\n",
       "    </tr>\n",
       "    <tr>\n",
       "      <th>3</th>\n",
       "      <td>3337</td>\n",
       "    </tr>\n",
       "    <tr>\n",
       "      <th>4</th>\n",
       "      <td>1405</td>\n",
       "    </tr>\n",
       "    <tr>\n",
       "      <th>5</th>\n",
       "      <td>3335</td>\n",
       "    </tr>\n",
       "  </tbody>\n",
       "</table>\n",
       "</div>"
      ],
      "text/plain": [
       "                  Journey Duration\n",
       "Start Station ID                  \n",
       "1                             1269\n",
       "2                             2055\n",
       "3                             3337\n",
       "4                             1405\n",
       "5                             3335"
      ]
     },
     "execution_count": 5,
     "metadata": {},
     "output_type": "execute_result"
    }
   ],
   "source": [
    "# 정류장별 나가는 수\n",
    "pd.pivot_table(data, index = 'Start Station ID', values = 'Journey Duration', aggfunc = 'count').head()"
   ]
  },
  {
   "cell_type": "code",
   "execution_count": 6,
   "metadata": {},
   "outputs": [
    {
     "data": {
      "text/html": [
       "<div>\n",
       "<style scoped>\n",
       "    .dataframe tbody tr th:only-of-type {\n",
       "        vertical-align: middle;\n",
       "    }\n",
       "\n",
       "    .dataframe tbody tr th {\n",
       "        vertical-align: top;\n",
       "    }\n",
       "\n",
       "    .dataframe thead th {\n",
       "        text-align: right;\n",
       "    }\n",
       "</style>\n",
       "<table border=\"1\" class=\"dataframe\">\n",
       "  <thead>\n",
       "    <tr style=\"text-align: right;\">\n",
       "      <th></th>\n",
       "      <th>Journey Duration</th>\n",
       "    </tr>\n",
       "    <tr>\n",
       "      <th>End Station ID</th>\n",
       "      <th></th>\n",
       "    </tr>\n",
       "  </thead>\n",
       "  <tbody>\n",
       "    <tr>\n",
       "      <th>1</th>\n",
       "      <td>877</td>\n",
       "    </tr>\n",
       "    <tr>\n",
       "      <th>2</th>\n",
       "      <td>2379</td>\n",
       "    </tr>\n",
       "    <tr>\n",
       "      <th>3</th>\n",
       "      <td>3786</td>\n",
       "    </tr>\n",
       "    <tr>\n",
       "      <th>4</th>\n",
       "      <td>1548</td>\n",
       "    </tr>\n",
       "    <tr>\n",
       "      <th>5</th>\n",
       "      <td>3596</td>\n",
       "    </tr>\n",
       "  </tbody>\n",
       "</table>\n",
       "</div>"
      ],
      "text/plain": [
       "                Journey Duration\n",
       "End Station ID                  \n",
       "1                            877\n",
       "2                           2379\n",
       "3                           3786\n",
       "4                           1548\n",
       "5                           3596"
      ]
     },
     "execution_count": 6,
     "metadata": {},
     "output_type": "execute_result"
    }
   ],
   "source": [
    "# 정류장별 들어오는 수\n",
    "pd.pivot_table(data, index = 'End Station ID', values = 'Journey Duration', aggfunc = 'count').head()"
   ]
  },
  {
   "cell_type": "code",
   "execution_count": 7,
   "metadata": {},
   "outputs": [
    {
     "data": {
      "text/html": [
       "<div>\n",
       "<style scoped>\n",
       "    .dataframe tbody tr th:only-of-type {\n",
       "        vertical-align: middle;\n",
       "    }\n",
       "\n",
       "    .dataframe tbody tr th {\n",
       "        vertical-align: top;\n",
       "    }\n",
       "\n",
       "    .dataframe thead th {\n",
       "        text-align: right;\n",
       "    }\n",
       "</style>\n",
       "<table border=\"1\" class=\"dataframe\">\n",
       "  <thead>\n",
       "    <tr style=\"text-align: right;\">\n",
       "      <th></th>\n",
       "      <th>Number of bicycles</th>\n",
       "    </tr>\n",
       "    <tr>\n",
       "      <th>Start Station ID</th>\n",
       "      <th></th>\n",
       "    </tr>\n",
       "  </thead>\n",
       "  <tbody>\n",
       "    <tr>\n",
       "      <th>1</th>\n",
       "      <td>392</td>\n",
       "    </tr>\n",
       "    <tr>\n",
       "      <th>2</th>\n",
       "      <td>-324</td>\n",
       "    </tr>\n",
       "    <tr>\n",
       "      <th>3</th>\n",
       "      <td>-449</td>\n",
       "    </tr>\n",
       "    <tr>\n",
       "      <th>4</th>\n",
       "      <td>-143</td>\n",
       "    </tr>\n",
       "    <tr>\n",
       "      <th>5</th>\n",
       "      <td>-261</td>\n",
       "    </tr>\n",
       "  </tbody>\n",
       "</table>\n",
       "</div>"
      ],
      "text/plain": [
       "                  Number of bicycles\n",
       "Start Station ID                    \n",
       "1                                392\n",
       "2                               -324\n",
       "3                               -449\n",
       "4                               -143\n",
       "5                               -261"
      ]
     },
     "execution_count": 7,
     "metadata": {},
     "output_type": "execute_result"
    }
   ],
   "source": [
    "# 정류장별 나가는 수 - 정류장별 들어오는 수\n",
    "data_1 = pd.pivot_table(data, index = 'Start Station ID', values = 'Journey Duration', aggfunc = 'count') - pd.pivot_table(data, index = 'End Station ID', values = 'Journey Duration', aggfunc = 'count')\n",
    "data_1 = data_1.rename(columns = {'Journey Duration' : 'Number of bicycles'})\n",
    "data_1.head()"
   ]
  },
  {
   "cell_type": "code",
   "execution_count": 8,
   "metadata": {},
   "outputs": [
    {
     "data": {
      "text/html": [
       "<div>\n",
       "<style scoped>\n",
       "    .dataframe tbody tr th:only-of-type {\n",
       "        vertical-align: middle;\n",
       "    }\n",
       "\n",
       "    .dataframe tbody tr th {\n",
       "        vertical-align: top;\n",
       "    }\n",
       "\n",
       "    .dataframe thead th {\n",
       "        text-align: right;\n",
       "    }\n",
       "</style>\n",
       "<table border=\"1\" class=\"dataframe\">\n",
       "  <thead>\n",
       "    <tr style=\"text-align: right;\">\n",
       "      <th></th>\n",
       "      <th>Number of bicycles</th>\n",
       "    </tr>\n",
       "  </thead>\n",
       "  <tbody>\n",
       "    <tr>\n",
       "      <th>count</th>\n",
       "      <td>779.000000</td>\n",
       "    </tr>\n",
       "    <tr>\n",
       "      <th>mean</th>\n",
       "      <td>0.000000</td>\n",
       "    </tr>\n",
       "    <tr>\n",
       "      <th>std</th>\n",
       "      <td>294.470925</td>\n",
       "    </tr>\n",
       "    <tr>\n",
       "      <th>min</th>\n",
       "      <td>-3186.000000</td>\n",
       "    </tr>\n",
       "    <tr>\n",
       "      <th>25%</th>\n",
       "      <td>-59.000000</td>\n",
       "    </tr>\n",
       "    <tr>\n",
       "      <th>50%</th>\n",
       "      <td>12.000000</td>\n",
       "    </tr>\n",
       "    <tr>\n",
       "      <th>75%</th>\n",
       "      <td>93.000000</td>\n",
       "    </tr>\n",
       "    <tr>\n",
       "      <th>max</th>\n",
       "      <td>2005.000000</td>\n",
       "    </tr>\n",
       "  </tbody>\n",
       "</table>\n",
       "</div>"
      ],
      "text/plain": [
       "       Number of bicycles\n",
       "count          779.000000\n",
       "mean             0.000000\n",
       "std            294.470925\n",
       "min          -3186.000000\n",
       "25%            -59.000000\n",
       "50%             12.000000\n",
       "75%             93.000000\n",
       "max           2005.000000"
      ]
     },
     "execution_count": 8,
     "metadata": {},
     "output_type": "execute_result"
    }
   ],
   "source": [
    "data_1.describe()"
   ]
  },
  {
   "cell_type": "code",
   "execution_count": 23,
   "metadata": {},
   "outputs": [
    {
     "data": {
      "text/html": [
       "<div>\n",
       "<style scoped>\n",
       "    .dataframe tbody tr th:only-of-type {\n",
       "        vertical-align: middle;\n",
       "    }\n",
       "\n",
       "    .dataframe tbody tr th {\n",
       "        vertical-align: top;\n",
       "    }\n",
       "\n",
       "    .dataframe thead th {\n",
       "        text-align: right;\n",
       "    }\n",
       "</style>\n",
       "<table border=\"1\" class=\"dataframe\">\n",
       "  <thead>\n",
       "    <tr style=\"text-align: right;\">\n",
       "      <th></th>\n",
       "      <th>Number of bicycles</th>\n",
       "      <th>Station ID</th>\n",
       "      <th>Capacity</th>\n",
       "      <th>Latitude</th>\n",
       "      <th>Longitude</th>\n",
       "      <th>Station Name</th>\n",
       "    </tr>\n",
       "  </thead>\n",
       "  <tbody>\n",
       "    <tr>\n",
       "      <th>0</th>\n",
       "      <td>392</td>\n",
       "      <td>1.0</td>\n",
       "      <td>19.0</td>\n",
       "      <td>51.529163</td>\n",
       "      <td>-0.109970</td>\n",
       "      <td>River Street , Clerkenwell</td>\n",
       "    </tr>\n",
       "    <tr>\n",
       "      <th>1</th>\n",
       "      <td>-324</td>\n",
       "      <td>2.0</td>\n",
       "      <td>37.0</td>\n",
       "      <td>51.499606</td>\n",
       "      <td>-0.197574</td>\n",
       "      <td>Phillimore Gardens, Kensington</td>\n",
       "    </tr>\n",
       "    <tr>\n",
       "      <th>2</th>\n",
       "      <td>-449</td>\n",
       "      <td>3.0</td>\n",
       "      <td>32.0</td>\n",
       "      <td>51.521283</td>\n",
       "      <td>-0.084605</td>\n",
       "      <td>Christopher Street, Liverpool Street</td>\n",
       "    </tr>\n",
       "    <tr>\n",
       "      <th>3</th>\n",
       "      <td>-143</td>\n",
       "      <td>4.0</td>\n",
       "      <td>23.0</td>\n",
       "      <td>51.530059</td>\n",
       "      <td>-0.120973</td>\n",
       "      <td>St. Chad's Street, King's Cross</td>\n",
       "    </tr>\n",
       "    <tr>\n",
       "      <th>4</th>\n",
       "      <td>-261</td>\n",
       "      <td>5.0</td>\n",
       "      <td>27.0</td>\n",
       "      <td>51.493130</td>\n",
       "      <td>-0.156876</td>\n",
       "      <td>Sedding Street, Sloane Square</td>\n",
       "    </tr>\n",
       "  </tbody>\n",
       "</table>\n",
       "</div>"
      ],
      "text/plain": [
       "   Number of bicycles  Station ID  Capacity   Latitude  Longitude  \\\n",
       "0                 392         1.0      19.0  51.529163  -0.109970   \n",
       "1                -324         2.0      37.0  51.499606  -0.197574   \n",
       "2                -449         3.0      32.0  51.521283  -0.084605   \n",
       "3                -143         4.0      23.0  51.530059  -0.120973   \n",
       "4                -261         5.0      27.0  51.493130  -0.156876   \n",
       "\n",
       "                           Station Name  \n",
       "0            River Street , Clerkenwell  \n",
       "1        Phillimore Gardens, Kensington  \n",
       "2  Christopher Street, Liverpool Street  \n",
       "3       St. Chad's Street, King's Cross  \n",
       "4         Sedding Street, Sloane Square  "
      ]
     },
     "execution_count": 23,
     "metadata": {},
     "output_type": "execute_result"
    }
   ],
   "source": [
    "result = pd.merge(data_1, stations, left_on = 'Start Station ID', right_on = 'Station ID', how = 'left')\n",
    "\n",
    "#result.to_csv('result.csv')\n",
    "result.head()"
   ]
  },
  {
   "cell_type": "code",
   "execution_count": 24,
   "metadata": {},
   "outputs": [
    {
     "data": {
      "text/plain": [
       "<matplotlib.axes._subplots.AxesSubplot at 0x2018c03e438>"
      ]
     },
     "execution_count": 24,
     "metadata": {},
     "output_type": "execute_result"
    },
    {
     "data": {
      "image/png": "[encoded data removed]",
      "text/plain": [
       "<Figure size 432x288 with 1 Axes>"
      ]
     },
     "metadata": {
      "needs_background": "light"
     },
     "output_type": "display_data"
    }
   ],
   "source": [
    "sns.distplot(result['Number of bicycles'],kde=False, rug=False)"
   ]
  },
  {
   "cell_type": "markdown",
   "metadata": {},
   "source": [
    "#### 자전거의 출입수가 대략적으로 정규분포와 유사하다는 것을 알 수 있다.\n",
    "\n",
    "#### 모든 정류장의 들어오고 나가는 수가 0에 수렴하지는 않는다.\n",
    "\n",
    "#### 1시그마 밖에 있는 정류장들을 살펴보자"
   ]
  },
  {
   "cell_type": "code",
   "execution_count": 126,
   "metadata": {
    "scrolled": true
   },
   "outputs": [
    {
     "data": {
      "text/plain": [
       "<matplotlib.axes._subplots.AxesSubplot at 0x2019bbc0a58>"
      ]
     },
     "execution_count": 126,
     "metadata": {},
     "output_type": "execute_result"
    },
    {
     "data": {
      "image/png": "[encoded data removed]",
      "text/plain": [
       "<Figure size 360x360 with 1 Axes>"
      ]
     },
     "metadata": {
      "needs_background": "light"
     },
     "output_type": "display_data"
    }
   ],
   "source": [
    "plt.figure(figsize=(5, 5))\n",
    "plt.xlim(51.45,51.55)\n",
    "plt.ylim(-0.25,0)\n",
    "sns.scatterplot(x = 'Latitude',y = 'Longitude',hue = 'Number of bicycles', data = result)"
   ]
  },
  {
   "cell_type": "markdown",
   "metadata": {},
   "source": [
    "#### 위도 경도에 따른 정류장 위치를 표시해주었고 그 위에다가 수 별로 색깔을 입혔습니다.\n",
    "#### 자세히 보면 3시경 정류장들이 진한것을 알 수 있고, 바로 왼쪽의 정류장들의 색깔이 연한것을 볼 수 있습니다.\n",
    "#### 진하다는 것(0보다 크다는 것)은 들어오는 수보다 나가는 수가 많다는 의미\n",
    "#### 연하다는 것(0보다 작다는 것)은 나가는 수보다 들어오는 수가 많다는 의미"
   ]
  },
  {
   "cell_type": "code",
   "execution_count": 27,
   "metadata": {},
   "outputs": [
    {
     "data": {
      "text/html": [
       "<div>\n",
       "<style scoped>\n",
       "    .dataframe tbody tr th:only-of-type {\n",
       "        vertical-align: middle;\n",
       "    }\n",
       "\n",
       "    .dataframe tbody tr th {\n",
       "        vertical-align: top;\n",
       "    }\n",
       "\n",
       "    .dataframe thead th {\n",
       "        text-align: right;\n",
       "    }\n",
       "</style>\n",
       "<table border=\"1\" class=\"dataframe\">\n",
       "  <thead>\n",
       "    <tr style=\"text-align: right;\">\n",
       "      <th></th>\n",
       "      <th>Number of bicycles</th>\n",
       "      <th>Station ID</th>\n",
       "      <th>Capacity</th>\n",
       "      <th>Latitude</th>\n",
       "      <th>Longitude</th>\n",
       "      <th>Station Name</th>\n",
       "    </tr>\n",
       "  </thead>\n",
       "  <tbody>\n",
       "    <tr>\n",
       "      <th>0</th>\n",
       "      <td>392</td>\n",
       "      <td>1</td>\n",
       "      <td>19</td>\n",
       "      <td>51.529163</td>\n",
       "      <td>-0.109970</td>\n",
       "      <td>River Street , Clerkenwell</td>\n",
       "    </tr>\n",
       "    <tr>\n",
       "      <th>1</th>\n",
       "      <td>-324</td>\n",
       "      <td>2</td>\n",
       "      <td>37</td>\n",
       "      <td>51.499606</td>\n",
       "      <td>-0.197574</td>\n",
       "      <td>Phillimore Gardens, Kensington</td>\n",
       "    </tr>\n",
       "    <tr>\n",
       "      <th>2</th>\n",
       "      <td>-449</td>\n",
       "      <td>3</td>\n",
       "      <td>32</td>\n",
       "      <td>51.521283</td>\n",
       "      <td>-0.084605</td>\n",
       "      <td>Christopher Street, Liverpool Street</td>\n",
       "    </tr>\n",
       "    <tr>\n",
       "      <th>3</th>\n",
       "      <td>323</td>\n",
       "      <td>20</td>\n",
       "      <td>28</td>\n",
       "      <td>51.527736</td>\n",
       "      <td>-0.135273</td>\n",
       "      <td>Drummond Street , Euston</td>\n",
       "    </tr>\n",
       "    <tr>\n",
       "      <th>4</th>\n",
       "      <td>422</td>\n",
       "      <td>25</td>\n",
       "      <td>32</td>\n",
       "      <td>51.528833</td>\n",
       "      <td>-0.132250</td>\n",
       "      <td>Doric Way , Somers Town</td>\n",
       "    </tr>\n",
       "  </tbody>\n",
       "</table>\n",
       "</div>"
      ],
      "text/plain": [
       "   Number of bicycles  Station ID  Capacity   Latitude  Longitude  \\\n",
       "0                 392           1        19  51.529163  -0.109970   \n",
       "1                -324           2        37  51.499606  -0.197574   \n",
       "2                -449           3        32  51.521283  -0.084605   \n",
       "3                 323          20        28  51.527736  -0.135273   \n",
       "4                 422          25        32  51.528833  -0.132250   \n",
       "\n",
       "                           Station Name  \n",
       "0            River Street , Clerkenwell  \n",
       "1        Phillimore Gardens, Kensington  \n",
       "2  Christopher Street, Liverpool Street  \n",
       "3              Drummond Street , Euston  \n",
       "4               Doric Way , Somers Town  "
      ]
     },
     "execution_count": 27,
     "metadata": {},
     "output_type": "execute_result"
    }
   ],
   "source": [
    "# 평균을 기준으로 양 옆으로 1시그마 밖으로 나온 값들의 데이터를 Outlier로 만들었습니다.\n",
    "Outlier = pd.merge(data_1[data_1['Number of bicycles'].abs() > int(data_1.std()*1)], stations, left_on = 'Start Station ID', right_on = 'Station ID', how = 'left')\n",
    "Outlier.head()"
   ]
  },
  {
   "cell_type": "code",
   "execution_count": 87,
   "metadata": {},
   "outputs": [
    {
     "data": {
      "text/plain": [
       "<matplotlib.axes._subplots.AxesSubplot at 0x2019a685f28>"
      ]
     },
     "execution_count": 87,
     "metadata": {},
     "output_type": "execute_result"
    },
    {
     "data": {
      "image/png": "[encoded data removed]",
      "text/plain": [
       "<Figure size 360x360 with 1 Axes>"
      ]
     },
     "metadata": {
      "needs_background": "light"
     },
     "output_type": "display_data"
    }
   ],
   "source": [
    "plt.figure(figsize=(5, 5))\n",
    "plt.xlim(51.45,51.55)\n",
    "plt.ylim(-0.25,0)\n",
    "# 파란색 : 들어오는 수가 많은 정류장\n",
    "sns.scatterplot(x = 'Latitude',y = 'Longitude',palette = 'Number of bicycles', data = Outlier[Outlier['Number of bicycles'] < 0])\n",
    "# 주황색 : 나가는 수가 많은 정류장\n",
    "sns.scatterplot(x = 'Latitude',y = 'Longitude',palette = 'Number of bicycles', data = Outlier[Outlier['Number of bicycles'] > 0])"
   ]
  },
  {
   "cell_type": "markdown",
   "metadata": {},
   "source": [
    "#### 영국 지도에 대입시켜보면 런던 북쪽과 외곽에서 런던 시내(가운데)로 가는 것을 예상할 수 있습니다.\n",
    "\n",
    "### 예상이 맞는지 확인\n",
    "\n",
    "### 1. 나가는 수가 많은 정류장의 최종 목적지는 어디인지."
   ]
  },
  {
   "cell_type": "code",
   "execution_count": 62,
   "metadata": {},
   "outputs": [
    {
     "data": {
      "text/plain": [
       "(48, 6)"
      ]
     },
     "execution_count": 62,
     "metadata": {},
     "output_type": "execute_result"
    }
   ],
   "source": [
    "# 48개의 정류장\n",
    "Outlier[Outlier['Number of bicycles'] > 0].shape"
   ]
  },
  {
   "cell_type": "code",
   "execution_count": 71,
   "metadata": {},
   "outputs": [
    {
     "name": "stdout",
     "output_type": "stream",
     "text": [
      "(120542, 22)\n"
     ]
    },
    {
     "data": {
      "text/html": [
       "<div>\n",
       "<style scoped>\n",
       "    .dataframe tbody tr th:only-of-type {\n",
       "        vertical-align: middle;\n",
       "    }\n",
       "\n",
       "    .dataframe tbody tr th {\n",
       "        vertical-align: top;\n",
       "    }\n",
       "\n",
       "    .dataframe thead th {\n",
       "        text-align: right;\n",
       "    }\n",
       "</style>\n",
       "<table border=\"1\" class=\"dataframe\">\n",
       "  <thead>\n",
       "    <tr style=\"text-align: right;\">\n",
       "      <th></th>\n",
       "      <th>Journey Duration</th>\n",
       "      <th>Journey ID</th>\n",
       "      <th>End Date</th>\n",
       "      <th>End Month</th>\n",
       "      <th>End Year</th>\n",
       "      <th>End Hour</th>\n",
       "      <th>End Minute</th>\n",
       "      <th>End Station ID</th>\n",
       "      <th>Start Date</th>\n",
       "      <th>Start Month</th>\n",
       "      <th>...</th>\n",
       "      <th>Start Minute</th>\n",
       "      <th>Start Station ID</th>\n",
       "      <th>End Capacity</th>\n",
       "      <th>End Latitude</th>\n",
       "      <th>End Longitude</th>\n",
       "      <th>End Station Name</th>\n",
       "      <th>Start Capacity</th>\n",
       "      <th>Start Latitude</th>\n",
       "      <th>Start Longitude</th>\n",
       "      <th>Start Station Name</th>\n",
       "    </tr>\n",
       "  </thead>\n",
       "  <tbody>\n",
       "    <tr>\n",
       "      <th>1457753</th>\n",
       "      <td>1640.0</td>\n",
       "      <td>7165</td>\n",
       "      <td>5</td>\n",
       "      <td>8</td>\n",
       "      <td>17</td>\n",
       "      <td>11</td>\n",
       "      <td>30</td>\n",
       "      <td>251</td>\n",
       "      <td>5</td>\n",
       "      <td>8</td>\n",
       "      <td>...</td>\n",
       "      <td>3</td>\n",
       "      <td>1</td>\n",
       "      <td>34.0</td>\n",
       "      <td>51.518908</td>\n",
       "      <td>-0.079249</td>\n",
       "      <td>Brushfield Street, Liverpool Street</td>\n",
       "      <td>19.0</td>\n",
       "      <td>51.529163</td>\n",
       "      <td>-0.10997</td>\n",
       "      <td>River Street , Clerkenwell</td>\n",
       "    </tr>\n",
       "    <tr>\n",
       "      <th>1095013</th>\n",
       "      <td>372.0</td>\n",
       "      <td>7068</td>\n",
       "      <td>22</td>\n",
       "      <td>8</td>\n",
       "      <td>17</td>\n",
       "      <td>18</td>\n",
       "      <td>24</td>\n",
       "      <td>574</td>\n",
       "      <td>22</td>\n",
       "      <td>8</td>\n",
       "      <td>...</td>\n",
       "      <td>17</td>\n",
       "      <td>1</td>\n",
       "      <td>45.0</td>\n",
       "      <td>51.533560</td>\n",
       "      <td>-0.093150</td>\n",
       "      <td>Eagle Wharf Road, Hoxton</td>\n",
       "      <td>19.0</td>\n",
       "      <td>51.529163</td>\n",
       "      <td>-0.10997</td>\n",
       "      <td>River Street , Clerkenwell</td>\n",
       "    </tr>\n",
       "    <tr>\n",
       "      <th>479691</th>\n",
       "      <td>1140.0</td>\n",
       "      <td>738</td>\n",
       "      <td>31</td>\n",
       "      <td>8</td>\n",
       "      <td>17</td>\n",
       "      <td>19</td>\n",
       "      <td>58</td>\n",
       "      <td>815</td>\n",
       "      <td>31</td>\n",
       "      <td>8</td>\n",
       "      <td>...</td>\n",
       "      <td>39</td>\n",
       "      <td>1</td>\n",
       "      <td>35.0</td>\n",
       "      <td>51.500089</td>\n",
       "      <td>-0.116628</td>\n",
       "      <td>Lambeth Palace Road, Waterloo</td>\n",
       "      <td>19.0</td>\n",
       "      <td>51.529163</td>\n",
       "      <td>-0.10997</td>\n",
       "      <td>River Street , Clerkenwell</td>\n",
       "    </tr>\n",
       "    <tr>\n",
       "      <th>1235460</th>\n",
       "      <td>725.0</td>\n",
       "      <td>5823</td>\n",
       "      <td>12</td>\n",
       "      <td>8</td>\n",
       "      <td>17</td>\n",
       "      <td>16</td>\n",
       "      <td>52</td>\n",
       "      <td>88</td>\n",
       "      <td>12</td>\n",
       "      <td>8</td>\n",
       "      <td>...</td>\n",
       "      <td>40</td>\n",
       "      <td>1</td>\n",
       "      <td>25.0</td>\n",
       "      <td>51.518587</td>\n",
       "      <td>-0.132053</td>\n",
       "      <td>Bayley Street , Bloomsbury</td>\n",
       "      <td>19.0</td>\n",
       "      <td>51.529163</td>\n",
       "      <td>-0.10997</td>\n",
       "      <td>River Street , Clerkenwell</td>\n",
       "    </tr>\n",
       "    <tr>\n",
       "      <th>1064892</th>\n",
       "      <td>65.0</td>\n",
       "      <td>394</td>\n",
       "      <td>21</td>\n",
       "      <td>8</td>\n",
       "      <td>17</td>\n",
       "      <td>19</td>\n",
       "      <td>8</td>\n",
       "      <td>254</td>\n",
       "      <td>21</td>\n",
       "      <td>8</td>\n",
       "      <td>...</td>\n",
       "      <td>7</td>\n",
       "      <td>1</td>\n",
       "      <td>17.0</td>\n",
       "      <td>51.530515</td>\n",
       "      <td>-0.106408</td>\n",
       "      <td>Chadwell Street, Angel</td>\n",
       "      <td>19.0</td>\n",
       "      <td>51.529163</td>\n",
       "      <td>-0.10997</td>\n",
       "      <td>River Street , Clerkenwell</td>\n",
       "    </tr>\n",
       "  </tbody>\n",
       "</table>\n",
       "<p>5 rows × 22 columns</p>\n",
       "</div>"
      ],
      "text/plain": [
       "         Journey Duration  Journey ID  End Date  End Month  End Year  \\\n",
       "1457753            1640.0        7165         5          8        17   \n",
       "1095013             372.0        7068        22          8        17   \n",
       "479691             1140.0         738        31          8        17   \n",
       "1235460             725.0        5823        12          8        17   \n",
       "1064892              65.0         394        21          8        17   \n",
       "\n",
       "         End Hour  End Minute  End Station ID  Start Date  Start Month  ...  \\\n",
       "1457753        11          30             251           5            8  ...   \n",
       "1095013        18          24             574          22            8  ...   \n",
       "479691         19          58             815          31            8  ...   \n",
       "1235460        16          52              88          12            8  ...   \n",
       "1064892        19           8             254          21            8  ...   \n",
       "\n",
       "         Start Minute  Start Station ID  End Capacity  End Latitude  \\\n",
       "1457753             3                 1          34.0     51.518908   \n",
       "1095013            17                 1          45.0     51.533560   \n",
       "479691             39                 1          35.0     51.500089   \n",
       "1235460            40                 1          25.0     51.518587   \n",
       "1064892             7                 1          17.0     51.530515   \n",
       "\n",
       "         End Longitude                     End Station Name  Start Capacity  \\\n",
       "1457753      -0.079249  Brushfield Street, Liverpool Street            19.0   \n",
       "1095013      -0.093150             Eagle Wharf Road, Hoxton            19.0   \n",
       "479691       -0.116628        Lambeth Palace Road, Waterloo            19.0   \n",
       "1235460      -0.132053           Bayley Street , Bloomsbury            19.0   \n",
       "1064892      -0.106408               Chadwell Street, Angel            19.0   \n",
       "\n",
       "        Start Latitude  Start Longitude          Start Station Name  \n",
       "1457753      51.529163         -0.10997  River Street , Clerkenwell  \n",
       "1095013      51.529163         -0.10997  River Street , Clerkenwell  \n",
       "479691       51.529163         -0.10997  River Street , Clerkenwell  \n",
       "1235460      51.529163         -0.10997  River Street , Clerkenwell  \n",
       "1064892      51.529163         -0.10997  River Street , Clerkenwell  \n",
       "\n",
       "[5 rows x 22 columns]"
      ]
     },
     "execution_count": 71,
     "metadata": {},
     "output_type": "execute_result"
    }
   ],
   "source": [
    "data.sort_values(by = 'Start Station ID', inplace = True)\n",
    "\n",
    "x = list(Outlier[Outlier['Number of bicycles'] > 0]['Station ID'])\n",
    "\n",
    "def find_Start_Station_ID(data):\n",
    "    for i in x:\n",
    "        if data == i:\n",
    "            return data\n",
    "\n",
    "Start_Station = data[data['Start Station ID'].apply(find_Start_Station_ID) > 0]\n",
    "\n",
    "print(Start_Station.shape)\n",
    "Start_Station.head()"
   ]
  },
  {
   "cell_type": "markdown",
   "metadata": {},
   "source": [
    "- 위의 48개의 정류장에서 나가는 데이터 수가 120542개"
   ]
  },
  {
   "cell_type": "code",
   "execution_count": 110,
   "metadata": {},
   "outputs": [
    {
     "data": {
      "text/html": [
       "<div>\n",
       "<style scoped>\n",
       "    .dataframe tbody tr th:only-of-type {\n",
       "        vertical-align: middle;\n",
       "    }\n",
       "\n",
       "    .dataframe tbody tr th {\n",
       "        vertical-align: top;\n",
       "    }\n",
       "\n",
       "    .dataframe thead th {\n",
       "        text-align: right;\n",
       "    }\n",
       "</style>\n",
       "<table border=\"1\" class=\"dataframe\">\n",
       "  <thead>\n",
       "    <tr style=\"text-align: right;\">\n",
       "      <th></th>\n",
       "      <th>Count</th>\n",
       "      <th>Station ID</th>\n",
       "      <th>Capacity</th>\n",
       "      <th>Latitude</th>\n",
       "      <th>Longitude</th>\n",
       "      <th>Station Name</th>\n",
       "    </tr>\n",
       "  </thead>\n",
       "  <tbody>\n",
       "    <tr>\n",
       "      <th>0</th>\n",
       "      <td>196</td>\n",
       "      <td>1.0</td>\n",
       "      <td>19.0</td>\n",
       "      <td>51.529163</td>\n",
       "      <td>-0.109970</td>\n",
       "      <td>River Street , Clerkenwell</td>\n",
       "    </tr>\n",
       "    <tr>\n",
       "      <th>1</th>\n",
       "      <td>77</td>\n",
       "      <td>2.0</td>\n",
       "      <td>37.0</td>\n",
       "      <td>51.499606</td>\n",
       "      <td>-0.197574</td>\n",
       "      <td>Phillimore Gardens, Kensington</td>\n",
       "    </tr>\n",
       "    <tr>\n",
       "      <th>2</th>\n",
       "      <td>813</td>\n",
       "      <td>3.0</td>\n",
       "      <td>32.0</td>\n",
       "      <td>51.521283</td>\n",
       "      <td>-0.084605</td>\n",
       "      <td>Christopher Street, Liverpool Street</td>\n",
       "    </tr>\n",
       "    <tr>\n",
       "      <th>3</th>\n",
       "      <td>157</td>\n",
       "      <td>4.0</td>\n",
       "      <td>23.0</td>\n",
       "      <td>51.530059</td>\n",
       "      <td>-0.120973</td>\n",
       "      <td>St. Chad's Street, King's Cross</td>\n",
       "    </tr>\n",
       "    <tr>\n",
       "      <th>4</th>\n",
       "      <td>138</td>\n",
       "      <td>5.0</td>\n",
       "      <td>27.0</td>\n",
       "      <td>51.493130</td>\n",
       "      <td>-0.156876</td>\n",
       "      <td>Sedding Street, Sloane Square</td>\n",
       "    </tr>\n",
       "  </tbody>\n",
       "</table>\n",
       "</div>"
      ],
      "text/plain": [
       "   Count  Station ID  Capacity   Latitude  Longitude  \\\n",
       "0    196         1.0      19.0  51.529163  -0.109970   \n",
       "1     77         2.0      37.0  51.499606  -0.197574   \n",
       "2    813         3.0      32.0  51.521283  -0.084605   \n",
       "3    157         4.0      23.0  51.530059  -0.120973   \n",
       "4    138         5.0      27.0  51.493130  -0.156876   \n",
       "\n",
       "                           Station Name  \n",
       "0            River Street , Clerkenwell  \n",
       "1        Phillimore Gardens, Kensington  \n",
       "2  Christopher Street, Liverpool Street  \n",
       "3       St. Chad's Street, King's Cross  \n",
       "4         Sedding Street, Sloane Square  "
      ]
     },
     "execution_count": 110,
     "metadata": {},
     "output_type": "execute_result"
    }
   ],
   "source": [
    "# 최종 목적지를 기준으로 카운트\n",
    "Start_Station = pd.pivot_table(Start_Station, index = 'End Station ID', values = 'Journey Duration', aggfunc = 'count')\n",
    "\n",
    "Start_Station = pd.merge(Start_Station, stations, left_on = 'End Station ID', right_on = 'Station ID', how = 'left')\n",
    "\n",
    "Start_Station.rename(columns = {'Journey Duration':'Count'}, inplace = True)\n",
    "\n",
    "Start_Station.head()"
   ]
  },
  {
   "cell_type": "code",
   "execution_count": 111,
   "metadata": {},
   "outputs": [
    {
     "data": {
      "text/plain": [
       "<matplotlib.axes._subplots.AxesSubplot at 0x201cb371be0>"
      ]
     },
     "execution_count": 111,
     "metadata": {},
     "output_type": "execute_result"
    },
    {
     "data": {
      "image/png": "[encoded data removed]",
      "text/plain": [
       "<Figure size 360x360 with 1 Axes>"
      ]
     },
     "metadata": {
      "needs_background": "light"
     },
     "output_type": "display_data"
    }
   ],
   "source": [
    "# 48개의 정류장에서 출발했을때 최종 목적지를 나타냄\n",
    "# 주로 런던시내(가운데)가 많은 것을 볼 수 있다.\n",
    "\n",
    "plt.figure(figsize=(5, 5))\n",
    "plt.xlim(51.45,51.55)\n",
    "plt.ylim(-0.25,0)\n",
    "sns.scatterplot(x = 'Latitude',y = 'Longitude',hue = 'Count', data = Start_Station)"
   ]
  },
  {
   "cell_type": "code",
   "execution_count": 112,
   "metadata": {},
   "outputs": [
    {
     "data": {
      "text/plain": [
       "count     774.000000\n",
       "mean      155.739018\n",
       "std       183.065514\n",
       "min         1.000000\n",
       "25%        33.000000\n",
       "50%        93.000000\n",
       "75%       212.750000\n",
       "max      1405.000000\n",
       "Name: Count, dtype: float64"
      ]
     },
     "execution_count": 112,
     "metadata": {},
     "output_type": "execute_result"
    }
   ],
   "source": [
    "Start_Station['Count'].describe()"
   ]
  },
  {
   "cell_type": "code",
   "execution_count": 121,
   "metadata": {},
   "outputs": [
    {
     "data": {
      "text/plain": [
       "<matplotlib.axes._subplots.AxesSubplot at 0x2019628a438>"
      ]
     },
     "execution_count": 121,
     "metadata": {},
     "output_type": "execute_result"
    },
    {
     "data": {
      "image/png": "[encoded data removed]",
      "text/plain": [
       "<Figure size 360x360 with 1 Axes>"
      ]
     },
     "metadata": {
      "needs_background": "light"
     },
     "output_type": "display_data"
    }
   ],
   "source": [
    "# 48개의 주요 최종목적지를 확인하기 위해서 평균 + 1시그마보다 큰 수의 정류장들만 SS로 저장\n",
    "SS = Start_Station[Start_Station['Count'] > (Start_Station['Count'].mean() + Start_Station['Count'].std())]\n",
    "\n",
    "plt.figure(figsize=(5, 5))\n",
    "plt.xlim(51.45,51.55)\n",
    "plt.ylim(-0.25,0)\n",
    "\n",
    "# 파란색 : 나가는 수가 많은 정류장\n",
    "sns.scatterplot(x = 'Latitude',y = 'Longitude',palette = 'Number of bicycles', data = Outlier[Outlier['Number of bicycles'] > 0])\n",
    "# 주황색 : 파란색들의 주요 최종 목적지\n",
    "sns.scatterplot(x = 'Latitude',y = 'Longitude',cmap = 'Count', data = SS)"
   ]
  },
  {
   "cell_type": "markdown",
   "metadata": {},
   "source": [
    "#### 주로 런던 북쪽 그리고 외곽에서 가운데로 오는 것을 확인 => 런던 시내로 모이는 것을 확인할 수 있다.\n",
    "\n",
    "\n",
    "### 2. 들어오는 수가 많은 정류장의 시작이 어디인지."
   ]
  },
  {
   "cell_type": "code",
   "execution_count": 94,
   "metadata": {},
   "outputs": [
    {
     "data": {
      "text/plain": [
       "(55, 6)"
      ]
     },
     "execution_count": 94,
     "metadata": {},
     "output_type": "execute_result"
    }
   ],
   "source": [
    "# 55개의 정류장\n",
    "Outlier[Outlier['Number of bicycles'] < 0].shape"
   ]
  },
  {
   "cell_type": "code",
   "execution_count": 102,
   "metadata": {},
   "outputs": [
    {
     "name": "stdout",
     "output_type": "stream",
     "text": [
      "(242066, 22)\n"
     ]
    },
    {
     "data": {
      "text/html": [
       "<div>\n",
       "<style scoped>\n",
       "    .dataframe tbody tr th:only-of-type {\n",
       "        vertical-align: middle;\n",
       "    }\n",
       "\n",
       "    .dataframe tbody tr th {\n",
       "        vertical-align: top;\n",
       "    }\n",
       "\n",
       "    .dataframe thead th {\n",
       "        text-align: right;\n",
       "    }\n",
       "</style>\n",
       "<table border=\"1\" class=\"dataframe\">\n",
       "  <thead>\n",
       "    <tr style=\"text-align: right;\">\n",
       "      <th></th>\n",
       "      <th>Journey Duration</th>\n",
       "      <th>Journey ID</th>\n",
       "      <th>End Date</th>\n",
       "      <th>End Month</th>\n",
       "      <th>End Year</th>\n",
       "      <th>End Hour</th>\n",
       "      <th>End Minute</th>\n",
       "      <th>End Station ID</th>\n",
       "      <th>Start Date</th>\n",
       "      <th>Start Month</th>\n",
       "      <th>...</th>\n",
       "      <th>Start Minute</th>\n",
       "      <th>Start Station ID</th>\n",
       "      <th>End Capacity</th>\n",
       "      <th>End Latitude</th>\n",
       "      <th>End Longitude</th>\n",
       "      <th>End Station Name</th>\n",
       "      <th>Start Capacity</th>\n",
       "      <th>Start Latitude</th>\n",
       "      <th>Start Longitude</th>\n",
       "      <th>Start Station Name</th>\n",
       "    </tr>\n",
       "  </thead>\n",
       "  <tbody>\n",
       "    <tr>\n",
       "      <th>923444</th>\n",
       "      <td>455.0</td>\n",
       "      <td>2567</td>\n",
       "      <td>16</td>\n",
       "      <td>8</td>\n",
       "      <td>17</td>\n",
       "      <td>19</td>\n",
       "      <td>41</td>\n",
       "      <td>2</td>\n",
       "      <td>16</td>\n",
       "      <td>8</td>\n",
       "      <td>...</td>\n",
       "      <td>33</td>\n",
       "      <td>350</td>\n",
       "      <td>37.0</td>\n",
       "      <td>51.499606</td>\n",
       "      <td>-0.197574</td>\n",
       "      <td>Phillimore Gardens, Kensington</td>\n",
       "      <td>21.0</td>\n",
       "      <td>51.501715</td>\n",
       "      <td>-0.179854</td>\n",
       "      <td>Queen's Gate, Kensington Gardens</td>\n",
       "    </tr>\n",
       "    <tr>\n",
       "      <th>929312</th>\n",
       "      <td>807.0</td>\n",
       "      <td>11443</td>\n",
       "      <td>17</td>\n",
       "      <td>8</td>\n",
       "      <td>17</td>\n",
       "      <td>6</td>\n",
       "      <td>57</td>\n",
       "      <td>2</td>\n",
       "      <td>17</td>\n",
       "      <td>8</td>\n",
       "      <td>...</td>\n",
       "      <td>44</td>\n",
       "      <td>191</td>\n",
       "      <td>37.0</td>\n",
       "      <td>51.499606</td>\n",
       "      <td>-0.197574</td>\n",
       "      <td>Phillimore Gardens, Kensington</td>\n",
       "      <td>28.0</td>\n",
       "      <td>51.503117</td>\n",
       "      <td>-0.153520</td>\n",
       "      <td>Hyde Park Corner, Hyde Park</td>\n",
       "    </tr>\n",
       "    <tr>\n",
       "      <th>1385675</th>\n",
       "      <td>1226.0</td>\n",
       "      <td>5943</td>\n",
       "      <td>3</td>\n",
       "      <td>8</td>\n",
       "      <td>17</td>\n",
       "      <td>7</td>\n",
       "      <td>38</td>\n",
       "      <td>2</td>\n",
       "      <td>3</td>\n",
       "      <td>8</td>\n",
       "      <td>...</td>\n",
       "      <td>17</td>\n",
       "      <td>612</td>\n",
       "      <td>37.0</td>\n",
       "      <td>51.499606</td>\n",
       "      <td>-0.197574</td>\n",
       "      <td>Phillimore Gardens, Kensington</td>\n",
       "      <td>30.0</td>\n",
       "      <td>51.469259</td>\n",
       "      <td>-0.141812</td>\n",
       "      <td>Wandsworth Rd, Isley Court, Wandsworth Road</td>\n",
       "    </tr>\n",
       "    <tr>\n",
       "      <th>714031</th>\n",
       "      <td>2996.0</td>\n",
       "      <td>8567</td>\n",
       "      <td>25</td>\n",
       "      <td>8</td>\n",
       "      <td>17</td>\n",
       "      <td>19</td>\n",
       "      <td>52</td>\n",
       "      <td>2</td>\n",
       "      <td>25</td>\n",
       "      <td>8</td>\n",
       "      <td>...</td>\n",
       "      <td>2</td>\n",
       "      <td>559</td>\n",
       "      <td>37.0</td>\n",
       "      <td>51.499606</td>\n",
       "      <td>-0.197574</td>\n",
       "      <td>Phillimore Gardens, Kensington</td>\n",
       "      <td>24.0</td>\n",
       "      <td>51.501391</td>\n",
       "      <td>-0.205991</td>\n",
       "      <td>Abbotsbury Road, Holland Park</td>\n",
       "    </tr>\n",
       "    <tr>\n",
       "      <th>353308</th>\n",
       "      <td>1080.0</td>\n",
       "      <td>13782</td>\n",
       "      <td>9</td>\n",
       "      <td>9</td>\n",
       "      <td>17</td>\n",
       "      <td>14</td>\n",
       "      <td>20</td>\n",
       "      <td>2</td>\n",
       "      <td>9</td>\n",
       "      <td>9</td>\n",
       "      <td>...</td>\n",
       "      <td>2</td>\n",
       "      <td>47</td>\n",
       "      <td>37.0</td>\n",
       "      <td>51.499606</td>\n",
       "      <td>-0.197574</td>\n",
       "      <td>Phillimore Gardens, Kensington</td>\n",
       "      <td>19.0</td>\n",
       "      <td>51.523344</td>\n",
       "      <td>-0.183846</td>\n",
       "      <td>Warwick Avenue Station, Maida Vale</td>\n",
       "    </tr>\n",
       "  </tbody>\n",
       "</table>\n",
       "<p>5 rows × 22 columns</p>\n",
       "</div>"
      ],
      "text/plain": [
       "         Journey Duration  Journey ID  End Date  End Month  End Year  \\\n",
       "923444              455.0        2567        16          8        17   \n",
       "929312              807.0       11443        17          8        17   \n",
       "1385675            1226.0        5943         3          8        17   \n",
       "714031             2996.0        8567        25          8        17   \n",
       "353308             1080.0       13782         9          9        17   \n",
       "\n",
       "         End Hour  End Minute  End Station ID  Start Date  Start Month  ...  \\\n",
       "923444         19          41               2          16            8  ...   \n",
       "929312          6          57               2          17            8  ...   \n",
       "1385675         7          38               2           3            8  ...   \n",
       "714031         19          52               2          25            8  ...   \n",
       "353308         14          20               2           9            9  ...   \n",
       "\n",
       "         Start Minute  Start Station ID  End Capacity  End Latitude  \\\n",
       "923444             33               350          37.0     51.499606   \n",
       "929312             44               191          37.0     51.499606   \n",
       "1385675            17               612          37.0     51.499606   \n",
       "714031              2               559          37.0     51.499606   \n",
       "353308              2                47          37.0     51.499606   \n",
       "\n",
       "         End Longitude                End Station Name  Start Capacity  \\\n",
       "923444       -0.197574  Phillimore Gardens, Kensington            21.0   \n",
       "929312       -0.197574  Phillimore Gardens, Kensington            28.0   \n",
       "1385675      -0.197574  Phillimore Gardens, Kensington            30.0   \n",
       "714031       -0.197574  Phillimore Gardens, Kensington            24.0   \n",
       "353308       -0.197574  Phillimore Gardens, Kensington            19.0   \n",
       "\n",
       "        Start Latitude  Start Longitude  \\\n",
       "923444       51.501715        -0.179854   \n",
       "929312       51.503117        -0.153520   \n",
       "1385675      51.469259        -0.141812   \n",
       "714031       51.501391        -0.205991   \n",
       "353308       51.523344        -0.183846   \n",
       "\n",
       "                                  Start Station Name  \n",
       "923444              Queen's Gate, Kensington Gardens  \n",
       "929312                   Hyde Park Corner, Hyde Park  \n",
       "1385675  Wandsworth Rd, Isley Court, Wandsworth Road  \n",
       "714031                 Abbotsbury Road, Holland Park  \n",
       "353308            Warwick Avenue Station, Maida Vale  \n",
       "\n",
       "[5 rows x 22 columns]"
      ]
     },
     "execution_count": 102,
     "metadata": {},
     "output_type": "execute_result"
    }
   ],
   "source": [
    "data.sort_values(by = 'End Station ID', inplace = True)\n",
    "\n",
    "x = list(Outlier[Outlier['Number of bicycles'] < 0]['Station ID'])\n",
    "\n",
    "def find_End_Station_ID(data):\n",
    "    for i in x:\n",
    "        if data == i:\n",
    "            return data\n",
    "\n",
    "End_Station = data[data['End Station ID'].apply(find_End_Station_ID) > 0]\n",
    "\n",
    "print(End_Station.shape)\n",
    "End_Station.head()"
   ]
  },
  {
   "cell_type": "markdown",
   "metadata": {},
   "source": [
    "- 위의 55개의 정류장으로 들어오는 데이터 수가 242066개"
   ]
  },
  {
   "cell_type": "code",
   "execution_count": 103,
   "metadata": {},
   "outputs": [
    {
     "name": "stdout",
     "output_type": "stream",
     "text": [
      "(778, 6)\n"
     ]
    },
    {
     "data": {
      "text/html": [
       "<div>\n",
       "<style scoped>\n",
       "    .dataframe tbody tr th:only-of-type {\n",
       "        vertical-align: middle;\n",
       "    }\n",
       "\n",
       "    .dataframe tbody tr th {\n",
       "        vertical-align: top;\n",
       "    }\n",
       "\n",
       "    .dataframe thead th {\n",
       "        text-align: right;\n",
       "    }\n",
       "</style>\n",
       "<table border=\"1\" class=\"dataframe\">\n",
       "  <thead>\n",
       "    <tr style=\"text-align: right;\">\n",
       "      <th></th>\n",
       "      <th>Count</th>\n",
       "      <th>Station ID</th>\n",
       "      <th>Capacity</th>\n",
       "      <th>Latitude</th>\n",
       "      <th>Longitude</th>\n",
       "      <th>Station Name</th>\n",
       "    </tr>\n",
       "  </thead>\n",
       "  <tbody>\n",
       "    <tr>\n",
       "      <th>0</th>\n",
       "      <td>277</td>\n",
       "      <td>1.0</td>\n",
       "      <td>19.0</td>\n",
       "      <td>51.529163</td>\n",
       "      <td>-0.109970</td>\n",
       "      <td>River Street , Clerkenwell</td>\n",
       "    </tr>\n",
       "    <tr>\n",
       "      <th>1</th>\n",
       "      <td>232</td>\n",
       "      <td>2.0</td>\n",
       "      <td>37.0</td>\n",
       "      <td>51.499606</td>\n",
       "      <td>-0.197574</td>\n",
       "      <td>Phillimore Gardens, Kensington</td>\n",
       "    </tr>\n",
       "    <tr>\n",
       "      <th>2</th>\n",
       "      <td>552</td>\n",
       "      <td>3.0</td>\n",
       "      <td>32.0</td>\n",
       "      <td>51.521283</td>\n",
       "      <td>-0.084605</td>\n",
       "      <td>Christopher Street, Liverpool Street</td>\n",
       "    </tr>\n",
       "    <tr>\n",
       "      <th>3</th>\n",
       "      <td>284</td>\n",
       "      <td>4.0</td>\n",
       "      <td>23.0</td>\n",
       "      <td>51.530059</td>\n",
       "      <td>-0.120973</td>\n",
       "      <td>St. Chad's Street, King's Cross</td>\n",
       "    </tr>\n",
       "    <tr>\n",
       "      <th>4</th>\n",
       "      <td>305</td>\n",
       "      <td>5.0</td>\n",
       "      <td>27.0</td>\n",
       "      <td>51.493130</td>\n",
       "      <td>-0.156876</td>\n",
       "      <td>Sedding Street, Sloane Square</td>\n",
       "    </tr>\n",
       "  </tbody>\n",
       "</table>\n",
       "</div>"
      ],
      "text/plain": [
       "   Count  Station ID  Capacity   Latitude  Longitude  \\\n",
       "0    277         1.0      19.0  51.529163  -0.109970   \n",
       "1    232         2.0      37.0  51.499606  -0.197574   \n",
       "2    552         3.0      32.0  51.521283  -0.084605   \n",
       "3    284         4.0      23.0  51.530059  -0.120973   \n",
       "4    305         5.0      27.0  51.493130  -0.156876   \n",
       "\n",
       "                           Station Name  \n",
       "0            River Street , Clerkenwell  \n",
       "1        Phillimore Gardens, Kensington  \n",
       "2  Christopher Street, Liverpool Street  \n",
       "3       St. Chad's Street, King's Cross  \n",
       "4         Sedding Street, Sloane Square  "
      ]
     },
     "execution_count": 103,
     "metadata": {},
     "output_type": "execute_result"
    }
   ],
   "source": [
    "# 시작 목적지를 기준으로 카운트\n",
    "End_Station = pd.pivot_table(End_Station, index = 'Start Station ID', values = 'Journey Duration', aggfunc = 'count')\n",
    "\n",
    "End_Station = pd.merge(End_Station, stations, left_on = 'Start Station ID', right_on = 'Station ID', how = 'left')\n",
    "\n",
    "End_Station.rename(columns = {'Journey Duration':'Count'}, inplace = True)\n",
    "\n",
    "print(End_Station.shape)\n",
    "End_Station.head()"
   ]
  },
  {
   "cell_type": "markdown",
   "metadata": {},
   "source": [
    "- 778개의 정류장에서 출발하는 것을 알 수 있다."
   ]
  },
  {
   "cell_type": "code",
   "execution_count": 105,
   "metadata": {},
   "outputs": [
    {
     "data": {
      "text/plain": [
       "<matplotlib.axes._subplots.AxesSubplot at 0x2019cc62470>"
      ]
     },
     "execution_count": 105,
     "metadata": {},
     "output_type": "execute_result"
    },
    {
     "data": {
      "image/png": "[encoded data removed]",
      "text/plain": [
       "<Figure size 360x360 with 1 Axes>"
      ]
     },
     "metadata": {
      "needs_background": "light"
     },
     "output_type": "display_data"
    }
   ],
   "source": [
    "# 55개의 정류장으로 갈 때 출발 목적지\n",
    "\n",
    "plt.figure(figsize=(5, 5))\n",
    "plt.xlim(51.45,51.55)\n",
    "plt.ylim(-0.25,0)\n",
    "sns.scatterplot(x = 'Latitude',y = 'Longitude', hue = 'Count', data = End_Station)"
   ]
  },
  {
   "cell_type": "code",
   "execution_count": 106,
   "metadata": {},
   "outputs": [
    {
     "data": {
      "text/plain": [
       "count     778.000000\n",
       "mean      311.138817\n",
       "std       351.510777\n",
       "min         3.000000\n",
       "25%        90.250000\n",
       "50%       214.000000\n",
       "75%       415.000000\n",
       "max      4130.000000\n",
       "Name: Count, dtype: float64"
      ]
     },
     "execution_count": 106,
     "metadata": {},
     "output_type": "execute_result"
    }
   ],
   "source": [
    "End_Station['Count'].describe()"
   ]
  },
  {
   "cell_type": "code",
   "execution_count": 137,
   "metadata": {},
   "outputs": [
    {
     "data": {
      "text/plain": [
       "<matplotlib.axes._subplots.AxesSubplot at 0x201c5d2f080>"
      ]
     },
     "execution_count": 137,
     "metadata": {},
     "output_type": "execute_result"
    },
    {
     "data": {
      "image/png": "[encoded data removed]",
      "text/plain": [
       "<Figure size 360x360 with 1 Axes>"
      ]
     },
     "metadata": {
      "needs_background": "light"
     },
     "output_type": "display_data"
    }
   ],
   "source": [
    "# 55개의 주요 시작목적지를 확인하기 위해서 평균 + 1시그마보다 큰 수의 정류장들만 ES로 저장\n",
    "ES = End_Station[End_Station['Count'] > (End_Station['Count'].mean() + End_Station['Count'].std())]\n",
    "\n",
    "plt.figure(figsize=(5, 5))\n",
    "plt.xlim(51.45,51.55)\n",
    "plt.ylim(-0.25,0)\n",
    "# 주황색 : 들어오는 수가 많은 정류장\n",
    "sns.scatterplot(x = 'Latitude',y = 'Longitude',palette = 'Number of bicycles', data = Outlier[Outlier['Number of bicycles'] < 0])\n",
    "# 파란색 : 주황색의 시작지점\n",
    "sns.scatterplot(x = 'Latitude',y = 'Longitude',cmap = 'Count', data = ES)"
   ]
  },
  {
   "cell_type": "markdown",
   "metadata": {},
   "source": [
    "#### 위의 그래프를 봤을 때는 시작지점에서 최종 목적지는 주로 런던 시내임을 알 수 있습니다."
   ]
  },
  {
   "cell_type": "markdown",
   "metadata": {},
   "source": [
    "## 따라서 나가는 수 또는 들어오는 수가 0과 거리가 있는 정류장들의 움직임을 보면 주로 런던 외곽에서 런던 시내로 이동하는 것을 알 수 있습니다."
   ]
  }
 ],
 "metadata": {
  "kernelspec": {
   "display_name": "Python 3",
   "language": "python",
   "name": "python3"
  },
  "language_info": {
   "codemirror_mode": {
    "name": "ipython",
    "version": 3
   },
   "file_extension": ".py",
   "mimetype": "text/x-python",
   "name": "python",
   "nbconvert_exporter": "python",
   "pygments_lexer": "ipython3",
   "version": "3.7.3"
  }
 },
 "nbformat": 4,
 "nbformat_minor": 2
}
